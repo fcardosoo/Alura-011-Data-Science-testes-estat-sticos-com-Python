{
 "cells": [
  {
   "cell_type": "markdown",
   "metadata": {},
   "source": [
    "# Introdução a testes"
   ]
  },
  {
   "cell_type": "code",
   "execution_count": 1,
   "metadata": {},
   "outputs": [],
   "source": [
    "import pandas as pd"
   ]
  },
  {
   "cell_type": "code",
   "execution_count": 2,
   "metadata": {},
   "outputs": [
    {
     "data": {
      "text/html": [
       "<div>\n",
       "<style scoped>\n",
       "    .dataframe tbody tr th:only-of-type {\n",
       "        vertical-align: middle;\n",
       "    }\n",
       "\n",
       "    .dataframe tbody tr th {\n",
       "        vertical-align: top;\n",
       "    }\n",
       "\n",
       "    .dataframe thead th {\n",
       "        text-align: right;\n",
       "    }\n",
       "</style>\n",
       "<table border=\"1\" class=\"dataframe\">\n",
       "  <thead>\n",
       "    <tr style=\"text-align: right;\">\n",
       "      <th></th>\n",
       "      <th>budget</th>\n",
       "      <th>genres</th>\n",
       "      <th>homepage</th>\n",
       "      <th>id</th>\n",
       "      <th>keywords</th>\n",
       "      <th>original_language</th>\n",
       "      <th>original_title</th>\n",
       "      <th>overview</th>\n",
       "      <th>popularity</th>\n",
       "      <th>production_companies</th>\n",
       "      <th>production_countries</th>\n",
       "      <th>release_date</th>\n",
       "      <th>revenue</th>\n",
       "      <th>runtime</th>\n",
       "      <th>spoken_languages</th>\n",
       "      <th>status</th>\n",
       "      <th>tagline</th>\n",
       "      <th>title</th>\n",
       "      <th>vote_average</th>\n",
       "      <th>vote_count</th>\n",
       "    </tr>\n",
       "  </thead>\n",
       "  <tbody>\n",
       "    <tr>\n",
       "      <th>0</th>\n",
       "      <td>237000000</td>\n",
       "      <td>[{\"id\": 28, \"name\": \"Action\"}, {\"id\": 12, \"nam...</td>\n",
       "      <td>http://www.avatarmovie.com/</td>\n",
       "      <td>19995</td>\n",
       "      <td>[{\"id\": 1463, \"name\": \"culture clash\"}, {\"id\":...</td>\n",
       "      <td>en</td>\n",
       "      <td>Avatar</td>\n",
       "      <td>In the 22nd century, a paraplegic Marine is di...</td>\n",
       "      <td>150.437577</td>\n",
       "      <td>[{\"name\": \"Ingenious Film Partners\", \"id\": 289...</td>\n",
       "      <td>[{\"iso_3166_1\": \"US\", \"name\": \"United States o...</td>\n",
       "      <td>2009-12-10</td>\n",
       "      <td>2787965087</td>\n",
       "      <td>162.0</td>\n",
       "      <td>[{\"iso_639_1\": \"en\", \"name\": \"English\"}, {\"iso...</td>\n",
       "      <td>Released</td>\n",
       "      <td>Enter the World of Pandora.</td>\n",
       "      <td>Avatar</td>\n",
       "      <td>7.2</td>\n",
       "      <td>11800</td>\n",
       "    </tr>\n",
       "    <tr>\n",
       "      <th>1</th>\n",
       "      <td>300000000</td>\n",
       "      <td>[{\"id\": 12, \"name\": \"Adventure\"}, {\"id\": 14, \"...</td>\n",
       "      <td>http://disney.go.com/disneypictures/pirates/</td>\n",
       "      <td>285</td>\n",
       "      <td>[{\"id\": 270, \"name\": \"ocean\"}, {\"id\": 726, \"na...</td>\n",
       "      <td>en</td>\n",
       "      <td>Pirates of the Caribbean: At World's End</td>\n",
       "      <td>Captain Barbossa, long believed to be dead, ha...</td>\n",
       "      <td>139.082615</td>\n",
       "      <td>[{\"name\": \"Walt Disney Pictures\", \"id\": 2}, {\"...</td>\n",
       "      <td>[{\"iso_3166_1\": \"US\", \"name\": \"United States o...</td>\n",
       "      <td>2007-05-19</td>\n",
       "      <td>961000000</td>\n",
       "      <td>169.0</td>\n",
       "      <td>[{\"iso_639_1\": \"en\", \"name\": \"English\"}]</td>\n",
       "      <td>Released</td>\n",
       "      <td>At the end of the world, the adventure begins.</td>\n",
       "      <td>Pirates of the Caribbean: At World's End</td>\n",
       "      <td>6.9</td>\n",
       "      <td>4500</td>\n",
       "    </tr>\n",
       "    <tr>\n",
       "      <th>2</th>\n",
       "      <td>245000000</td>\n",
       "      <td>[{\"id\": 28, \"name\": \"Action\"}, {\"id\": 12, \"nam...</td>\n",
       "      <td>http://www.sonypictures.com/movies/spectre/</td>\n",
       "      <td>206647</td>\n",
       "      <td>[{\"id\": 470, \"name\": \"spy\"}, {\"id\": 818, \"name...</td>\n",
       "      <td>en</td>\n",
       "      <td>Spectre</td>\n",
       "      <td>A cryptic message from Bond’s past sends him o...</td>\n",
       "      <td>107.376788</td>\n",
       "      <td>[{\"name\": \"Columbia Pictures\", \"id\": 5}, {\"nam...</td>\n",
       "      <td>[{\"iso_3166_1\": \"GB\", \"name\": \"United Kingdom\"...</td>\n",
       "      <td>2015-10-26</td>\n",
       "      <td>880674609</td>\n",
       "      <td>148.0</td>\n",
       "      <td>[{\"iso_639_1\": \"fr\", \"name\": \"Fran\\u00e7ais\"},...</td>\n",
       "      <td>Released</td>\n",
       "      <td>A Plan No One Escapes</td>\n",
       "      <td>Spectre</td>\n",
       "      <td>6.3</td>\n",
       "      <td>4466</td>\n",
       "    </tr>\n",
       "    <tr>\n",
       "      <th>3</th>\n",
       "      <td>250000000</td>\n",
       "      <td>[{\"id\": 28, \"name\": \"Action\"}, {\"id\": 80, \"nam...</td>\n",
       "      <td>http://www.thedarkknightrises.com/</td>\n",
       "      <td>49026</td>\n",
       "      <td>[{\"id\": 849, \"name\": \"dc comics\"}, {\"id\": 853,...</td>\n",
       "      <td>en</td>\n",
       "      <td>The Dark Knight Rises</td>\n",
       "      <td>Following the death of District Attorney Harve...</td>\n",
       "      <td>112.312950</td>\n",
       "      <td>[{\"name\": \"Legendary Pictures\", \"id\": 923}, {\"...</td>\n",
       "      <td>[{\"iso_3166_1\": \"US\", \"name\": \"United States o...</td>\n",
       "      <td>2012-07-16</td>\n",
       "      <td>1084939099</td>\n",
       "      <td>165.0</td>\n",
       "      <td>[{\"iso_639_1\": \"en\", \"name\": \"English\"}]</td>\n",
       "      <td>Released</td>\n",
       "      <td>The Legend Ends</td>\n",
       "      <td>The Dark Knight Rises</td>\n",
       "      <td>7.6</td>\n",
       "      <td>9106</td>\n",
       "    </tr>\n",
       "    <tr>\n",
       "      <th>4</th>\n",
       "      <td>260000000</td>\n",
       "      <td>[{\"id\": 28, \"name\": \"Action\"}, {\"id\": 12, \"nam...</td>\n",
       "      <td>http://movies.disney.com/john-carter</td>\n",
       "      <td>49529</td>\n",
       "      <td>[{\"id\": 818, \"name\": \"based on novel\"}, {\"id\":...</td>\n",
       "      <td>en</td>\n",
       "      <td>John Carter</td>\n",
       "      <td>John Carter is a war-weary, former military ca...</td>\n",
       "      <td>43.926995</td>\n",
       "      <td>[{\"name\": \"Walt Disney Pictures\", \"id\": 2}]</td>\n",
       "      <td>[{\"iso_3166_1\": \"US\", \"name\": \"United States o...</td>\n",
       "      <td>2012-03-07</td>\n",
       "      <td>284139100</td>\n",
       "      <td>132.0</td>\n",
       "      <td>[{\"iso_639_1\": \"en\", \"name\": \"English\"}]</td>\n",
       "      <td>Released</td>\n",
       "      <td>Lost in our world, found in another.</td>\n",
       "      <td>John Carter</td>\n",
       "      <td>6.1</td>\n",
       "      <td>2124</td>\n",
       "    </tr>\n",
       "  </tbody>\n",
       "</table>\n",
       "</div>"
      ],
      "text/plain": [
       "      budget                                             genres  \\\n",
       "0  237000000  [{\"id\": 28, \"name\": \"Action\"}, {\"id\": 12, \"nam...   \n",
       "1  300000000  [{\"id\": 12, \"name\": \"Adventure\"}, {\"id\": 14, \"...   \n",
       "2  245000000  [{\"id\": 28, \"name\": \"Action\"}, {\"id\": 12, \"nam...   \n",
       "3  250000000  [{\"id\": 28, \"name\": \"Action\"}, {\"id\": 80, \"nam...   \n",
       "4  260000000  [{\"id\": 28, \"name\": \"Action\"}, {\"id\": 12, \"nam...   \n",
       "\n",
       "                                       homepage      id  \\\n",
       "0                   http://www.avatarmovie.com/   19995   \n",
       "1  http://disney.go.com/disneypictures/pirates/     285   \n",
       "2   http://www.sonypictures.com/movies/spectre/  206647   \n",
       "3            http://www.thedarkknightrises.com/   49026   \n",
       "4          http://movies.disney.com/john-carter   49529   \n",
       "\n",
       "                                            keywords original_language  \\\n",
       "0  [{\"id\": 1463, \"name\": \"culture clash\"}, {\"id\":...                en   \n",
       "1  [{\"id\": 270, \"name\": \"ocean\"}, {\"id\": 726, \"na...                en   \n",
       "2  [{\"id\": 470, \"name\": \"spy\"}, {\"id\": 818, \"name...                en   \n",
       "3  [{\"id\": 849, \"name\": \"dc comics\"}, {\"id\": 853,...                en   \n",
       "4  [{\"id\": 818, \"name\": \"based on novel\"}, {\"id\":...                en   \n",
       "\n",
       "                             original_title  \\\n",
       "0                                    Avatar   \n",
       "1  Pirates of the Caribbean: At World's End   \n",
       "2                                   Spectre   \n",
       "3                     The Dark Knight Rises   \n",
       "4                               John Carter   \n",
       "\n",
       "                                            overview  popularity  \\\n",
       "0  In the 22nd century, a paraplegic Marine is di...  150.437577   \n",
       "1  Captain Barbossa, long believed to be dead, ha...  139.082615   \n",
       "2  A cryptic message from Bond’s past sends him o...  107.376788   \n",
       "3  Following the death of District Attorney Harve...  112.312950   \n",
       "4  John Carter is a war-weary, former military ca...   43.926995   \n",
       "\n",
       "                                production_companies  \\\n",
       "0  [{\"name\": \"Ingenious Film Partners\", \"id\": 289...   \n",
       "1  [{\"name\": \"Walt Disney Pictures\", \"id\": 2}, {\"...   \n",
       "2  [{\"name\": \"Columbia Pictures\", \"id\": 5}, {\"nam...   \n",
       "3  [{\"name\": \"Legendary Pictures\", \"id\": 923}, {\"...   \n",
       "4        [{\"name\": \"Walt Disney Pictures\", \"id\": 2}]   \n",
       "\n",
       "                                production_countries release_date     revenue  \\\n",
       "0  [{\"iso_3166_1\": \"US\", \"name\": \"United States o...   2009-12-10  2787965087   \n",
       "1  [{\"iso_3166_1\": \"US\", \"name\": \"United States o...   2007-05-19   961000000   \n",
       "2  [{\"iso_3166_1\": \"GB\", \"name\": \"United Kingdom\"...   2015-10-26   880674609   \n",
       "3  [{\"iso_3166_1\": \"US\", \"name\": \"United States o...   2012-07-16  1084939099   \n",
       "4  [{\"iso_3166_1\": \"US\", \"name\": \"United States o...   2012-03-07   284139100   \n",
       "\n",
       "   runtime                                   spoken_languages    status  \\\n",
       "0    162.0  [{\"iso_639_1\": \"en\", \"name\": \"English\"}, {\"iso...  Released   \n",
       "1    169.0           [{\"iso_639_1\": \"en\", \"name\": \"English\"}]  Released   \n",
       "2    148.0  [{\"iso_639_1\": \"fr\", \"name\": \"Fran\\u00e7ais\"},...  Released   \n",
       "3    165.0           [{\"iso_639_1\": \"en\", \"name\": \"English\"}]  Released   \n",
       "4    132.0           [{\"iso_639_1\": \"en\", \"name\": \"English\"}]  Released   \n",
       "\n",
       "                                          tagline  \\\n",
       "0                     Enter the World of Pandora.   \n",
       "1  At the end of the world, the adventure begins.   \n",
       "2                           A Plan No One Escapes   \n",
       "3                                 The Legend Ends   \n",
       "4            Lost in our world, found in another.   \n",
       "\n",
       "                                      title  vote_average  vote_count  \n",
       "0                                    Avatar           7.2       11800  \n",
       "1  Pirates of the Caribbean: At World's End           6.9        4500  \n",
       "2                                   Spectre           6.3        4466  \n",
       "3                     The Dark Knight Rises           7.6        9106  \n",
       "4                               John Carter           6.1        2124  "
      ]
     },
     "execution_count": 2,
     "metadata": {},
     "output_type": "execute_result"
    }
   ],
   "source": [
    "tmdb = pd.read_csv('tmdb_5000_movies.csv')\n",
    "tmdb.head()"
   ]
  },
  {
   "cell_type": "code",
   "execution_count": null,
   "metadata": {},
   "outputs": [],
   "source": [
    "tmdb.describe()"
   ]
  },
  {
   "cell_type": "code",
   "execution_count": 3,
   "metadata": {},
   "outputs": [],
   "source": [
    "import seaborn as sns"
   ]
  },
  {
   "cell_type": "code",
   "execution_count": null,
   "metadata": {},
   "outputs": [],
   "source": [
    "ax = sns.distplot(tmdb.vote_average)\n",
    "ax.set(xlabel = 'Nota média', ylabel= 'Densidade')\n",
    "ax.set_title('Média de votos em filmes no TMDB 5000')"
   ]
  },
  {
   "cell_type": "code",
   "execution_count": null,
   "metadata": {},
   "outputs": [],
   "source": [
    "# Para que o 'sns' NÃO normalize o eixo Y\n",
    "ax = sns.distplot(tmdb.vote_average, norm_hist=False, kde=False)\n",
    "ax.set(xlabel = 'Nota média', ylabel= 'Frequência')\n",
    "ax.set_title('Média de votos em filmes no TMDB 5000')\n"
   ]
  },
  {
   "cell_type": "code",
   "execution_count": null,
   "metadata": {},
   "outputs": [],
   "source": [
    "ax = sns.boxplot(x = tmdb.vote_average)\n",
    "ax.set_title('Distribuição de nota média dos filmes TMDB 5000')\n",
    "ax.set(xlabel = 'Nota média')"
   ]
  },
  {
   "cell_type": "code",
   "execution_count": null,
   "metadata": {},
   "outputs": [],
   "source": [
    "sns.boxplot(y = tmdb.vote_average)"
   ]
  },
  {
   "cell_type": "code",
   "execution_count": null,
   "metadata": {},
   "outputs": [],
   "source": [
    "# Analisando filmes com nota média igual a zero\n",
    "# Observa-se ue 63 filmes não possuem votos\n",
    "tmdb.query('vote_average == 0')"
   ]
  },
  {
   "cell_type": "code",
   "execution_count": null,
   "metadata": {},
   "outputs": [],
   "source": [
    "# Verifica-se igualmente que filmes com média 10 possuem apenas 1 ou 2 votos\n",
    "tmdb.query('vote_average == 10')"
   ]
  },
  {
   "cell_type": "code",
   "execution_count": 4,
   "metadata": {},
   "outputs": [
    {
     "data": {
      "text/html": [
       "<div>\n",
       "<style scoped>\n",
       "    .dataframe tbody tr th:only-of-type {\n",
       "        vertical-align: middle;\n",
       "    }\n",
       "\n",
       "    .dataframe tbody tr th {\n",
       "        vertical-align: top;\n",
       "    }\n",
       "\n",
       "    .dataframe thead th {\n",
       "        text-align: right;\n",
       "    }\n",
       "</style>\n",
       "<table border=\"1\" class=\"dataframe\">\n",
       "  <thead>\n",
       "    <tr style=\"text-align: right;\">\n",
       "      <th></th>\n",
       "      <th>budget</th>\n",
       "      <th>id</th>\n",
       "      <th>popularity</th>\n",
       "      <th>revenue</th>\n",
       "      <th>runtime</th>\n",
       "      <th>vote_average</th>\n",
       "      <th>vote_count</th>\n",
       "    </tr>\n",
       "  </thead>\n",
       "  <tbody>\n",
       "    <tr>\n",
       "      <th>count</th>\n",
       "      <td>4.392000e+03</td>\n",
       "      <td>4392.000000</td>\n",
       "      <td>4392.000000</td>\n",
       "      <td>4.392000e+03</td>\n",
       "      <td>4391.000000</td>\n",
       "      <td>4392.000000</td>\n",
       "      <td>4392.000000</td>\n",
       "    </tr>\n",
       "    <tr>\n",
       "      <th>mean</th>\n",
       "      <td>3.164545e+07</td>\n",
       "      <td>49204.119991</td>\n",
       "      <td>23.448815</td>\n",
       "      <td>8.990969e+07</td>\n",
       "      <td>108.430881</td>\n",
       "      <td>6.226935</td>\n",
       "      <td>754.441712</td>\n",
       "    </tr>\n",
       "    <tr>\n",
       "      <th>std</th>\n",
       "      <td>4.162736e+07</td>\n",
       "      <td>80136.249777</td>\n",
       "      <td>32.592158</td>\n",
       "      <td>1.682870e+08</td>\n",
       "      <td>21.014719</td>\n",
       "      <td>0.893215</td>\n",
       "      <td>1272.263761</td>\n",
       "    </tr>\n",
       "    <tr>\n",
       "      <th>min</th>\n",
       "      <td>0.000000e+00</td>\n",
       "      <td>5.000000</td>\n",
       "      <td>0.011697</td>\n",
       "      <td>0.000000e+00</td>\n",
       "      <td>0.000000</td>\n",
       "      <td>1.900000</td>\n",
       "      <td>10.000000</td>\n",
       "    </tr>\n",
       "    <tr>\n",
       "      <th>25%</th>\n",
       "      <td>2.895962e+06</td>\n",
       "      <td>8403.500000</td>\n",
       "      <td>6.512166</td>\n",
       "      <td>1.365700e+04</td>\n",
       "      <td>95.000000</td>\n",
       "      <td>5.700000</td>\n",
       "      <td>83.750000</td>\n",
       "    </tr>\n",
       "    <tr>\n",
       "      <th>50%</th>\n",
       "      <td>1.700000e+07</td>\n",
       "      <td>13084.500000</td>\n",
       "      <td>14.827784</td>\n",
       "      <td>2.685837e+07</td>\n",
       "      <td>105.000000</td>\n",
       "      <td>6.300000</td>\n",
       "      <td>288.500000</td>\n",
       "    </tr>\n",
       "    <tr>\n",
       "      <th>75%</th>\n",
       "      <td>4.200000e+07</td>\n",
       "      <td>46831.250000</td>\n",
       "      <td>30.258282</td>\n",
       "      <td>1.022818e+08</td>\n",
       "      <td>118.500000</td>\n",
       "      <td>6.800000</td>\n",
       "      <td>831.000000</td>\n",
       "    </tr>\n",
       "    <tr>\n",
       "      <th>max</th>\n",
       "      <td>3.800000e+08</td>\n",
       "      <td>417859.000000</td>\n",
       "      <td>875.581305</td>\n",
       "      <td>2.787965e+09</td>\n",
       "      <td>338.000000</td>\n",
       "      <td>8.500000</td>\n",
       "      <td>13752.000000</td>\n",
       "    </tr>\n",
       "  </tbody>\n",
       "</table>\n",
       "</div>"
      ],
      "text/plain": [
       "             budget             id   popularity       revenue      runtime  \\\n",
       "count  4.392000e+03    4392.000000  4392.000000  4.392000e+03  4391.000000   \n",
       "mean   3.164545e+07   49204.119991    23.448815  8.990969e+07   108.430881   \n",
       "std    4.162736e+07   80136.249777    32.592158  1.682870e+08    21.014719   \n",
       "min    0.000000e+00       5.000000     0.011697  0.000000e+00     0.000000   \n",
       "25%    2.895962e+06    8403.500000     6.512166  1.365700e+04    95.000000   \n",
       "50%    1.700000e+07   13084.500000    14.827784  2.685837e+07   105.000000   \n",
       "75%    4.200000e+07   46831.250000    30.258282  1.022818e+08   118.500000   \n",
       "max    3.800000e+08  417859.000000   875.581305  2.787965e+09   338.000000   \n",
       "\n",
       "       vote_average    vote_count  \n",
       "count   4392.000000   4392.000000  \n",
       "mean       6.226935    754.441712  \n",
       "std        0.893215   1272.263761  \n",
       "min        1.900000     10.000000  \n",
       "25%        5.700000     83.750000  \n",
       "50%        6.300000    288.500000  \n",
       "75%        6.800000    831.000000  \n",
       "max        8.500000  13752.000000  "
      ]
     },
     "execution_count": 4,
     "metadata": {},
     "output_type": "execute_result"
    }
   ],
   "source": [
    "# Podemos assumir como público de interesse apenas filmes com 10 ou mais votos\n",
    "tmdb_com_mais_de_10_votos = tmdb.query('vote_count >= 10')\n",
    "tmdb_com_mais_de_10_votos.describe()"
   ]
  },
  {
   "cell_type": "code",
   "execution_count": null,
   "metadata": {},
   "outputs": [],
   "source": [
    "# Exibindo a distribuição de filmes com mais de 10 votos\n",
    "ax = sns.distplot(tmdb_com_mais_de_10_votos.vote_average, norm_hist=False, kde=False)\n",
    "ax.set(xlabel = 'Nota média', ylabel= 'Frequência')\n",
    "ax.set_title('Média de votos em filmes no TMDB 5000 com mais de 10 votos')"
   ]
  },
  {
   "cell_type": "code",
   "execution_count": null,
   "metadata": {},
   "outputs": [],
   "source": [
    "# Exibindo a distribuição de filmes com mais de 10 votos\n",
    "ax = sns.distplot(tmdb_com_mais_de_10_votos.vote_average)\n",
    "ax.set(xlabel = 'Nota média', ylabel= 'Densidade')\n",
    "ax.set_title('Média de votos em filmes no TMDB 5000 com mais de 10 votos')"
   ]
  },
  {
   "cell_type": "code",
   "execution_count": null,
   "metadata": {},
   "outputs": [],
   "source": [
    "ax = sns.boxplot(x = tmdb_com_mais_de_10_votos.vote_average)\n",
    "ax.set_title('Distribuição de nota média dos filmes TMDB 5000 com mais de 10 votos')\n",
    "ax.set(xlabel = 'Nota média')"
   ]
  },
  {
   "cell_type": "markdown",
   "metadata": {},
   "source": [
    "Analisando os dados do movie lens"
   ]
  },
  {
   "cell_type": "code",
   "execution_count": 5,
   "metadata": {},
   "outputs": [
    {
     "data": {
      "text/html": [
       "<div>\n",
       "<style scoped>\n",
       "    .dataframe tbody tr th:only-of-type {\n",
       "        vertical-align: middle;\n",
       "    }\n",
       "\n",
       "    .dataframe tbody tr th {\n",
       "        vertical-align: top;\n",
       "    }\n",
       "\n",
       "    .dataframe thead th {\n",
       "        text-align: right;\n",
       "    }\n",
       "</style>\n",
       "<table border=\"1\" class=\"dataframe\">\n",
       "  <thead>\n",
       "    <tr style=\"text-align: right;\">\n",
       "      <th></th>\n",
       "      <th>userId</th>\n",
       "      <th>movieId</th>\n",
       "      <th>rating</th>\n",
       "      <th>timestamp</th>\n",
       "    </tr>\n",
       "  </thead>\n",
       "  <tbody>\n",
       "    <tr>\n",
       "      <th>0</th>\n",
       "      <td>1</td>\n",
       "      <td>1</td>\n",
       "      <td>4.0</td>\n",
       "      <td>964982703</td>\n",
       "    </tr>\n",
       "    <tr>\n",
       "      <th>1</th>\n",
       "      <td>1</td>\n",
       "      <td>3</td>\n",
       "      <td>4.0</td>\n",
       "      <td>964981247</td>\n",
       "    </tr>\n",
       "    <tr>\n",
       "      <th>2</th>\n",
       "      <td>1</td>\n",
       "      <td>6</td>\n",
       "      <td>4.0</td>\n",
       "      <td>964982224</td>\n",
       "    </tr>\n",
       "    <tr>\n",
       "      <th>3</th>\n",
       "      <td>1</td>\n",
       "      <td>47</td>\n",
       "      <td>5.0</td>\n",
       "      <td>964983815</td>\n",
       "    </tr>\n",
       "    <tr>\n",
       "      <th>4</th>\n",
       "      <td>1</td>\n",
       "      <td>50</td>\n",
       "      <td>5.0</td>\n",
       "      <td>964982931</td>\n",
       "    </tr>\n",
       "  </tbody>\n",
       "</table>\n",
       "</div>"
      ],
      "text/plain": [
       "   userId  movieId  rating  timestamp\n",
       "0       1        1     4.0  964982703\n",
       "1       1        3     4.0  964981247\n",
       "2       1        6     4.0  964982224\n",
       "3       1       47     5.0  964983815\n",
       "4       1       50     5.0  964982931"
      ]
     },
     "execution_count": 5,
     "metadata": {},
     "output_type": "execute_result"
    }
   ],
   "source": [
    "notas = pd.read_csv('ratings.csv')\n",
    "notas.head()"
   ]
  },
  {
   "cell_type": "code",
   "execution_count": 6,
   "metadata": {},
   "outputs": [
    {
     "data": {
      "text/plain": [
       "movieId\n",
       "1    3.920930\n",
       "2    3.431818\n",
       "3    3.259615\n",
       "4    2.357143\n",
       "5    3.071429\n",
       "Name: rating, dtype: float64"
      ]
     },
     "execution_count": 6,
     "metadata": {},
     "output_type": "execute_result"
    }
   ],
   "source": [
    "nota_media_por_filme = notas.groupby('movieId').mean()[\"rating\"]\n",
    "nota_media_por_filme.head()"
   ]
  },
  {
   "cell_type": "code",
   "execution_count": 9,
   "metadata": {},
   "outputs": [
    {
     "name": "stderr",
     "output_type": "stream",
     "text": [
      "C:\\Users\\Fabiano\\AppData\\Local\\Temp\\ipykernel_18088\\2042901481.py:1: UserWarning: \n",
      "\n",
      "`distplot` is a deprecated function and will be removed in seaborn v0.14.0.\n",
      "\n",
      "Please adapt your code to use either `displot` (a figure-level function with\n",
      "similar flexibility) or `histplot` (an axes-level function for histograms).\n",
      "\n",
      "For a guide to updating your code to use the new functions, please see\n",
      "https://gist.github.com/mwaskom/de44147ed2974457ad6372750bbe5751\n",
      "\n",
      "  ax = sns.distplot(nota_media_por_filme.values)\n"
     ]
    },
    {
     "data": {
      "text/plain": [
       "Text(0.5, 1.0, 'Média de votos em filmes no Movielens 100k')"
      ]
     },
     "execution_count": 9,
     "metadata": {},
     "output_type": "execute_result"
    },
    {
     "data": {
      "image/png": "[encoded data removed]",
      "text/plain": [
       "<Figure size 640x480 with 1 Axes>"
      ]
     },
     "metadata": {},
     "output_type": "display_data"
    }
   ],
   "source": [
    "ax = sns.distplot(nota_media_por_filme.values)\n",
    "ax.set(xlabel = 'Nota média', ylabel= 'Densidade')\n",
    "ax.set_title('Média de votos em filmes no Movielens 100k')"
   ]
  },
  {
   "cell_type": "code",
   "execution_count": 10,
   "metadata": {},
   "outputs": [],
   "source": [
    "# Agrupando os filmes pela quantidade de votos e filtrando aqueles com 10 ou mais votos\n",
    "# Para identificar os filmes utilizamos o index  \n",
    "quantidade_de_votos_por_filme = notas.groupby('movieId').count()\n",
    "filmes_com_pelo_menos_10_votos = quantidade_de_votos_por_filme.query(\"rating >= 10\").index"
   ]
  },
  {
   "cell_type": "code",
   "execution_count": 11,
   "metadata": {},
   "outputs": [],
   "source": [
    "# Para localizar os filmes pelos indices identificados na query anterior utilizamos o .loc\n",
    "nota_media_por_filme_com_pelo_menos_10_votos = nota_media_por_filme.loc[filmes_com_pelo_menos_10_votos.values]"
   ]
  },
  {
   "cell_type": "code",
   "execution_count": 12,
   "metadata": {},
   "outputs": [
    {
     "data": {
      "text/plain": [
       "movieId\n",
       "1    3.920930\n",
       "2    3.431818\n",
       "3    3.259615\n",
       "5    3.071429\n",
       "6    3.946078\n",
       "Name: rating, dtype: float64"
      ]
     },
     "execution_count": 12,
     "metadata": {},
     "output_type": "execute_result"
    }
   ],
   "source": [
    "nota_media_por_filme_com_pelo_menos_10_votos.head()"
   ]
  },
  {
   "cell_type": "code",
   "execution_count": 13,
   "metadata": {},
   "outputs": [
    {
     "name": "stderr",
     "output_type": "stream",
     "text": [
      "C:\\Users\\Fabiano\\AppData\\Local\\Temp\\ipykernel_18088\\1451131206.py:1: UserWarning: \n",
      "\n",
      "`distplot` is a deprecated function and will be removed in seaborn v0.14.0.\n",
      "\n",
      "Please adapt your code to use either `displot` (a figure-level function with\n",
      "similar flexibility) or `histplot` (an axes-level function for histograms).\n",
      "\n",
      "For a guide to updating your code to use the new functions, please see\n",
      "https://gist.github.com/mwaskom/de44147ed2974457ad6372750bbe5751\n",
      "\n",
      "  ax = sns.distplot(nota_media_por_filme_com_pelo_menos_10_votos.values)\n"
     ]
    },
    {
     "data": {
      "text/plain": [
       "Text(0.5, 1.0, 'Média de votos em filmes no Movielens 100k com pelo menos 10 votos')"
      ]
     },
     "execution_count": 13,
     "metadata": {},
     "output_type": "execute_result"
    },
    {
     "data": {
      "image/png": "[encoded data removed]",
      "text/plain": [
       "<Figure size 640x480 with 1 Axes>"
      ]
     },
     "metadata": {},
     "output_type": "display_data"
    }
   ],
   "source": [
    "ax = sns.distplot(nota_media_por_filme_com_pelo_menos_10_votos.values)\n",
    "ax.set(xlabel = 'Nota média', ylabel= 'Densidade')\n",
    "ax.set_title('Média de votos em filmes no Movielens 100k com pelo menos 10 votos')"
   ]
  },
  {
   "cell_type": "code",
   "execution_count": 14,
   "metadata": {},
   "outputs": [
    {
     "data": {
      "text/plain": [
       "[Text(0.5, 0, 'Nota média do filme')]"
      ]
     },
     "execution_count": 14,
     "metadata": {},
     "output_type": "execute_result"
    },
    {
     "data": {
      "image/png": "[encoded data removed]",
      "text/plain": [
       "<Figure size 640x480 with 1 Axes>"
      ]
     },
     "metadata": {},
     "output_type": "display_data"
    }
   ],
   "source": [
    "ax = sns.boxplot(x = nota_media_por_filme_com_pelo_menos_10_votos.values)\n",
    "ax.set_title('Distribuição de nota média dos filmes do Movielens com mais de 10 votos')\n",
    "ax.set(xlabel = 'Nota média do filme')"
   ]
  },
  {
   "cell_type": "code",
   "execution_count": 15,
   "metadata": {},
   "outputs": [
    {
     "name": "stderr",
     "output_type": "stream",
     "text": [
      "C:\\Users\\Fabiano\\AppData\\Local\\Temp\\ipykernel_18088\\1176590127.py:3: UserWarning: \n",
      "\n",
      "`distplot` is a deprecated function and will be removed in seaborn v0.14.0.\n",
      "\n",
      "Please adapt your code to use either `displot` (a figure-level function with\n",
      "similar flexibility) or `histplot` (an axes-level function for histograms).\n",
      "\n",
      "For a guide to updating your code to use the new functions, please see\n",
      "https://gist.github.com/mwaskom/de44147ed2974457ad6372750bbe5751\n",
      "\n",
      "  ax = sns.distplot(nota_media_por_filme_com_pelo_menos_10_votos.values,\n"
     ]
    },
    {
     "data": {
      "text/plain": [
       "Text(0.5, 1.0, 'Média de votos em filmes no Movielens 100k com pelo menos 10 votos')"
      ]
     },
     "execution_count": 15,
     "metadata": {},
     "output_type": "execute_result"
    },
    {
     "data": {
      "image/png": "[encoded data removed]",
      "text/plain": [
       "<Figure size 640x480 with 1 Axes>"
      ]
     },
     "metadata": {},
     "output_type": "display_data"
    }
   ],
   "source": [
    "# para observar os dados de maneira cumulativa\n",
    "\n",
    "ax = sns.distplot(nota_media_por_filme_com_pelo_menos_10_votos.values,\n",
    "                    hist_kws = {'cumulative': True},\n",
    "                    kde_kws = {'cumulative': True})\n",
    "ax.set(xlabel = 'Nota média', ylabel= '% Acumulada de filmes')\n",
    "ax.set_title('Média de votos em filmes no Movielens 100k com pelo menos 10 votos')"
   ]
  },
  {
   "cell_type": "code",
   "execution_count": 16,
   "metadata": {},
   "outputs": [
    {
     "name": "stderr",
     "output_type": "stream",
     "text": [
      "C:\\Users\\Fabiano\\AppData\\Local\\Temp\\ipykernel_18088\\875890222.py:3: UserWarning: \n",
      "\n",
      "`distplot` is a deprecated function and will be removed in seaborn v0.14.0.\n",
      "\n",
      "Please adapt your code to use either `displot` (a figure-level function with\n",
      "similar flexibility) or `histplot` (an axes-level function for histograms).\n",
      "\n",
      "For a guide to updating your code to use the new functions, please see\n",
      "https://gist.github.com/mwaskom/de44147ed2974457ad6372750bbe5751\n",
      "\n",
      "  ax = sns.distplot(tmdb_com_mais_de_10_votos.vote_average,\n"
     ]
    },
    {
     "data": {
      "text/plain": [
       "Text(0.5, 1.0, 'Média de votos em filmes no TMDB 5000 com mais de 10 votos')"
      ]
     },
     "execution_count": 16,
     "metadata": {},
     "output_type": "execute_result"
    },
    {
     "data": {
      "image/png": "[encoded data removed]",
      "text/plain": [
       "<Figure size 640x480 with 1 Axes>"
      ]
     },
     "metadata": {},
     "output_type": "display_data"
    }
   ],
   "source": [
    "# para observar os dados de maneira cumulativa\n",
    "\n",
    "ax = sns.distplot(tmdb_com_mais_de_10_votos.vote_average,\n",
    "                    hist_kws = {'cumulative': True},\n",
    "                    kde_kws = {'cumulative': True})\n",
    "ax.set(xlabel = 'Nota média', ylabel= '% Acumulada de filmes')\n",
    "ax.set_title('Média de votos em filmes no TMDB 5000 com mais de 10 votos')"
   ]
  },
  {
   "cell_type": "markdown",
   "metadata": {},
   "source": [
    "## Analisando a distribuiçaõ dos dados "
   ]
  },
  {
   "cell_type": "code",
   "execution_count": 17,
   "metadata": {},
   "outputs": [
    {
     "data": {
      "text/html": [
       "<div>\n",
       "<style scoped>\n",
       "    .dataframe tbody tr th:only-of-type {\n",
       "        vertical-align: middle;\n",
       "    }\n",
       "\n",
       "    .dataframe tbody tr th {\n",
       "        vertical-align: top;\n",
       "    }\n",
       "\n",
       "    .dataframe thead th {\n",
       "        text-align: right;\n",
       "    }\n",
       "</style>\n",
       "<table border=\"1\" class=\"dataframe\">\n",
       "  <thead>\n",
       "    <tr style=\"text-align: right;\">\n",
       "      <th></th>\n",
       "      <th>budget</th>\n",
       "      <th>genres</th>\n",
       "      <th>homepage</th>\n",
       "      <th>id</th>\n",
       "      <th>keywords</th>\n",
       "      <th>original_language</th>\n",
       "      <th>original_title</th>\n",
       "      <th>overview</th>\n",
       "      <th>popularity</th>\n",
       "      <th>production_companies</th>\n",
       "      <th>production_countries</th>\n",
       "      <th>release_date</th>\n",
       "      <th>revenue</th>\n",
       "      <th>runtime</th>\n",
       "      <th>spoken_languages</th>\n",
       "      <th>status</th>\n",
       "      <th>tagline</th>\n",
       "      <th>title</th>\n",
       "      <th>vote_average</th>\n",
       "      <th>vote_count</th>\n",
       "    </tr>\n",
       "  </thead>\n",
       "  <tbody>\n",
       "    <tr>\n",
       "      <th>0</th>\n",
       "      <td>237000000</td>\n",
       "      <td>[{\"id\": 28, \"name\": \"Action\"}, {\"id\": 12, \"nam...</td>\n",
       "      <td>http://www.avatarmovie.com/</td>\n",
       "      <td>19995</td>\n",
       "      <td>[{\"id\": 1463, \"name\": \"culture clash\"}, {\"id\":...</td>\n",
       "      <td>en</td>\n",
       "      <td>Avatar</td>\n",
       "      <td>In the 22nd century, a paraplegic Marine is di...</td>\n",
       "      <td>150.437577</td>\n",
       "      <td>[{\"name\": \"Ingenious Film Partners\", \"id\": 289...</td>\n",
       "      <td>[{\"iso_3166_1\": \"US\", \"name\": \"United States o...</td>\n",
       "      <td>2009-12-10</td>\n",
       "      <td>2787965087</td>\n",
       "      <td>162.0</td>\n",
       "      <td>[{\"iso_639_1\": \"en\", \"name\": \"English\"}, {\"iso...</td>\n",
       "      <td>Released</td>\n",
       "      <td>Enter the World of Pandora.</td>\n",
       "      <td>Avatar</td>\n",
       "      <td>7.2</td>\n",
       "      <td>11800</td>\n",
       "    </tr>\n",
       "    <tr>\n",
       "      <th>1</th>\n",
       "      <td>300000000</td>\n",
       "      <td>[{\"id\": 12, \"name\": \"Adventure\"}, {\"id\": 14, \"...</td>\n",
       "      <td>http://disney.go.com/disneypictures/pirates/</td>\n",
       "      <td>285</td>\n",
       "      <td>[{\"id\": 270, \"name\": \"ocean\"}, {\"id\": 726, \"na...</td>\n",
       "      <td>en</td>\n",
       "      <td>Pirates of the Caribbean: At World's End</td>\n",
       "      <td>Captain Barbossa, long believed to be dead, ha...</td>\n",
       "      <td>139.082615</td>\n",
       "      <td>[{\"name\": \"Walt Disney Pictures\", \"id\": 2}, {\"...</td>\n",
       "      <td>[{\"iso_3166_1\": \"US\", \"name\": \"United States o...</td>\n",
       "      <td>2007-05-19</td>\n",
       "      <td>961000000</td>\n",
       "      <td>169.0</td>\n",
       "      <td>[{\"iso_639_1\": \"en\", \"name\": \"English\"}]</td>\n",
       "      <td>Released</td>\n",
       "      <td>At the end of the world, the adventure begins.</td>\n",
       "      <td>Pirates of the Caribbean: At World's End</td>\n",
       "      <td>6.9</td>\n",
       "      <td>4500</td>\n",
       "    </tr>\n",
       "    <tr>\n",
       "      <th>2</th>\n",
       "      <td>245000000</td>\n",
       "      <td>[{\"id\": 28, \"name\": \"Action\"}, {\"id\": 12, \"nam...</td>\n",
       "      <td>http://www.sonypictures.com/movies/spectre/</td>\n",
       "      <td>206647</td>\n",
       "      <td>[{\"id\": 470, \"name\": \"spy\"}, {\"id\": 818, \"name...</td>\n",
       "      <td>en</td>\n",
       "      <td>Spectre</td>\n",
       "      <td>A cryptic message from Bond’s past sends him o...</td>\n",
       "      <td>107.376788</td>\n",
       "      <td>[{\"name\": \"Columbia Pictures\", \"id\": 5}, {\"nam...</td>\n",
       "      <td>[{\"iso_3166_1\": \"GB\", \"name\": \"United Kingdom\"...</td>\n",
       "      <td>2015-10-26</td>\n",
       "      <td>880674609</td>\n",
       "      <td>148.0</td>\n",
       "      <td>[{\"iso_639_1\": \"fr\", \"name\": \"Fran\\u00e7ais\"},...</td>\n",
       "      <td>Released</td>\n",
       "      <td>A Plan No One Escapes</td>\n",
       "      <td>Spectre</td>\n",
       "      <td>6.3</td>\n",
       "      <td>4466</td>\n",
       "    </tr>\n",
       "    <tr>\n",
       "      <th>3</th>\n",
       "      <td>250000000</td>\n",
       "      <td>[{\"id\": 28, \"name\": \"Action\"}, {\"id\": 80, \"nam...</td>\n",
       "      <td>http://www.thedarkknightrises.com/</td>\n",
       "      <td>49026</td>\n",
       "      <td>[{\"id\": 849, \"name\": \"dc comics\"}, {\"id\": 853,...</td>\n",
       "      <td>en</td>\n",
       "      <td>The Dark Knight Rises</td>\n",
       "      <td>Following the death of District Attorney Harve...</td>\n",
       "      <td>112.312950</td>\n",
       "      <td>[{\"name\": \"Legendary Pictures\", \"id\": 923}, {\"...</td>\n",
       "      <td>[{\"iso_3166_1\": \"US\", \"name\": \"United States o...</td>\n",
       "      <td>2012-07-16</td>\n",
       "      <td>1084939099</td>\n",
       "      <td>165.0</td>\n",
       "      <td>[{\"iso_639_1\": \"en\", \"name\": \"English\"}]</td>\n",
       "      <td>Released</td>\n",
       "      <td>The Legend Ends</td>\n",
       "      <td>The Dark Knight Rises</td>\n",
       "      <td>7.6</td>\n",
       "      <td>9106</td>\n",
       "    </tr>\n",
       "    <tr>\n",
       "      <th>4</th>\n",
       "      <td>260000000</td>\n",
       "      <td>[{\"id\": 28, \"name\": \"Action\"}, {\"id\": 12, \"nam...</td>\n",
       "      <td>http://movies.disney.com/john-carter</td>\n",
       "      <td>49529</td>\n",
       "      <td>[{\"id\": 818, \"name\": \"based on novel\"}, {\"id\":...</td>\n",
       "      <td>en</td>\n",
       "      <td>John Carter</td>\n",
       "      <td>John Carter is a war-weary, former military ca...</td>\n",
       "      <td>43.926995</td>\n",
       "      <td>[{\"name\": \"Walt Disney Pictures\", \"id\": 2}]</td>\n",
       "      <td>[{\"iso_3166_1\": \"US\", \"name\": \"United States o...</td>\n",
       "      <td>2012-03-07</td>\n",
       "      <td>284139100</td>\n",
       "      <td>132.0</td>\n",
       "      <td>[{\"iso_639_1\": \"en\", \"name\": \"English\"}]</td>\n",
       "      <td>Released</td>\n",
       "      <td>Lost in our world, found in another.</td>\n",
       "      <td>John Carter</td>\n",
       "      <td>6.1</td>\n",
       "      <td>2124</td>\n",
       "    </tr>\n",
       "  </tbody>\n",
       "</table>\n",
       "</div>"
      ],
      "text/plain": [
       "      budget                                             genres  \\\n",
       "0  237000000  [{\"id\": 28, \"name\": \"Action\"}, {\"id\": 12, \"nam...   \n",
       "1  300000000  [{\"id\": 12, \"name\": \"Adventure\"}, {\"id\": 14, \"...   \n",
       "2  245000000  [{\"id\": 28, \"name\": \"Action\"}, {\"id\": 12, \"nam...   \n",
       "3  250000000  [{\"id\": 28, \"name\": \"Action\"}, {\"id\": 80, \"nam...   \n",
       "4  260000000  [{\"id\": 28, \"name\": \"Action\"}, {\"id\": 12, \"nam...   \n",
       "\n",
       "                                       homepage      id  \\\n",
       "0                   http://www.avatarmovie.com/   19995   \n",
       "1  http://disney.go.com/disneypictures/pirates/     285   \n",
       "2   http://www.sonypictures.com/movies/spectre/  206647   \n",
       "3            http://www.thedarkknightrises.com/   49026   \n",
       "4          http://movies.disney.com/john-carter   49529   \n",
       "\n",
       "                                            keywords original_language  \\\n",
       "0  [{\"id\": 1463, \"name\": \"culture clash\"}, {\"id\":...                en   \n",
       "1  [{\"id\": 270, \"name\": \"ocean\"}, {\"id\": 726, \"na...                en   \n",
       "2  [{\"id\": 470, \"name\": \"spy\"}, {\"id\": 818, \"name...                en   \n",
       "3  [{\"id\": 849, \"name\": \"dc comics\"}, {\"id\": 853,...                en   \n",
       "4  [{\"id\": 818, \"name\": \"based on novel\"}, {\"id\":...                en   \n",
       "\n",
       "                             original_title  \\\n",
       "0                                    Avatar   \n",
       "1  Pirates of the Caribbean: At World's End   \n",
       "2                                   Spectre   \n",
       "3                     The Dark Knight Rises   \n",
       "4                               John Carter   \n",
       "\n",
       "                                            overview  popularity  \\\n",
       "0  In the 22nd century, a paraplegic Marine is di...  150.437577   \n",
       "1  Captain Barbossa, long believed to be dead, ha...  139.082615   \n",
       "2  A cryptic message from Bond’s past sends him o...  107.376788   \n",
       "3  Following the death of District Attorney Harve...  112.312950   \n",
       "4  John Carter is a war-weary, former military ca...   43.926995   \n",
       "\n",
       "                                production_companies  \\\n",
       "0  [{\"name\": \"Ingenious Film Partners\", \"id\": 289...   \n",
       "1  [{\"name\": \"Walt Disney Pictures\", \"id\": 2}, {\"...   \n",
       "2  [{\"name\": \"Columbia Pictures\", \"id\": 5}, {\"nam...   \n",
       "3  [{\"name\": \"Legendary Pictures\", \"id\": 923}, {\"...   \n",
       "4        [{\"name\": \"Walt Disney Pictures\", \"id\": 2}]   \n",
       "\n",
       "                                production_countries release_date     revenue  \\\n",
       "0  [{\"iso_3166_1\": \"US\", \"name\": \"United States o...   2009-12-10  2787965087   \n",
       "1  [{\"iso_3166_1\": \"US\", \"name\": \"United States o...   2007-05-19   961000000   \n",
       "2  [{\"iso_3166_1\": \"GB\", \"name\": \"United Kingdom\"...   2015-10-26   880674609   \n",
       "3  [{\"iso_3166_1\": \"US\", \"name\": \"United States o...   2012-07-16  1084939099   \n",
       "4  [{\"iso_3166_1\": \"US\", \"name\": \"United States o...   2012-03-07   284139100   \n",
       "\n",
       "   runtime                                   spoken_languages    status  \\\n",
       "0    162.0  [{\"iso_639_1\": \"en\", \"name\": \"English\"}, {\"iso...  Released   \n",
       "1    169.0           [{\"iso_639_1\": \"en\", \"name\": \"English\"}]  Released   \n",
       "2    148.0  [{\"iso_639_1\": \"fr\", \"name\": \"Fran\\u00e7ais\"},...  Released   \n",
       "3    165.0           [{\"iso_639_1\": \"en\", \"name\": \"English\"}]  Released   \n",
       "4    132.0           [{\"iso_639_1\": \"en\", \"name\": \"English\"}]  Released   \n",
       "\n",
       "                                          tagline  \\\n",
       "0                     Enter the World of Pandora.   \n",
       "1  At the end of the world, the adventure begins.   \n",
       "2                           A Plan No One Escapes   \n",
       "3                                 The Legend Ends   \n",
       "4            Lost in our world, found in another.   \n",
       "\n",
       "                                      title  vote_average  vote_count  \n",
       "0                                    Avatar           7.2       11800  \n",
       "1  Pirates of the Caribbean: At World's End           6.9        4500  \n",
       "2                                   Spectre           6.3        4466  \n",
       "3                     The Dark Knight Rises           7.6        9106  \n",
       "4                               John Carter           6.1        2124  "
      ]
     },
     "execution_count": 17,
     "metadata": {},
     "output_type": "execute_result"
    }
   ],
   "source": [
    "tmdb_com_mais_de_10_votos.head()"
   ]
  },
  {
   "cell_type": "code",
   "execution_count": 18,
   "metadata": {},
   "outputs": [
    {
     "name": "stderr",
     "output_type": "stream",
     "text": [
      "C:\\Users\\Fabiano\\AppData\\Local\\Temp\\ipykernel_18088\\3461159796.py:1: UserWarning: \n",
      "\n",
      "`distplot` is a deprecated function and will be removed in seaborn v0.14.0.\n",
      "\n",
      "Please adapt your code to use either `displot` (a figure-level function with\n",
      "similar flexibility) or `histplot` (an axes-level function for histograms).\n",
      "\n",
      "For a guide to updating your code to use the new functions, please see\n",
      "https://gist.github.com/mwaskom/de44147ed2974457ad6372750bbe5751\n",
      "\n",
      "  ax = sns.distplot(tmdb_com_mais_de_10_votos.vote_count)\n"
     ]
    },
    {
     "data": {
      "text/plain": [
       "Text(0.5, 1.0, 'Número de votos em filmes no TMDB 5000 com pelo menos 10 votos')"
      ]
     },
     "execution_count": 18,
     "metadata": {},
     "output_type": "execute_result"
    },
    {
     "data": {
      "image/png": "[encoded data removed]",
      "text/plain": [
       "<Figure size 640x480 with 1 Axes>"
      ]
     },
     "metadata": {},
     "output_type": "display_data"
    }
   ],
   "source": [
    "ax = sns.distplot(tmdb_com_mais_de_10_votos.vote_count)\n",
    "ax.set(xlabel = 'Numero de votos', ylabel= 'Densidade')\n",
    "ax.set_title('Número de votos em filmes no TMDB 5000 com pelo menos 10 votos')"
   ]
  },
  {
   "cell_type": "code",
   "execution_count": 19,
   "metadata": {},
   "outputs": [
    {
     "data": {
      "text/plain": [
       "0       237000000\n",
       "1       300000000\n",
       "2       245000000\n",
       "3       250000000\n",
       "4       260000000\n",
       "          ...    \n",
       "4791           13\n",
       "4792        20000\n",
       "4796         7000\n",
       "4798       220000\n",
       "4799         9000\n",
       "Name: budget, Length: 3766, dtype: int64"
      ]
     },
     "execution_count": 19,
     "metadata": {},
     "output_type": "execute_result"
    }
   ],
   "source": [
    "tmdb.query('budget > 0').budget"
   ]
  },
  {
   "cell_type": "code",
   "execution_count": 20,
   "metadata": {},
   "outputs": [
    {
     "name": "stderr",
     "output_type": "stream",
     "text": [
      "C:\\Users\\Fabiano\\AppData\\Local\\Temp\\ipykernel_18088\\1716874068.py:1: UserWarning: \n",
      "\n",
      "`distplot` is a deprecated function and will be removed in seaborn v0.14.0.\n",
      "\n",
      "Please adapt your code to use either `displot` (a figure-level function with\n",
      "similar flexibility) or `histplot` (an axes-level function for histograms).\n",
      "\n",
      "For a guide to updating your code to use the new functions, please see\n",
      "https://gist.github.com/mwaskom/de44147ed2974457ad6372750bbe5751\n",
      "\n",
      "  ax = sns.distplot(tmdb.query('budget > 0').budget)\n"
     ]
    },
    {
     "data": {
      "text/plain": [
       "Text(0.5, 1.0, 'Número de votos em filmes no TMDB 5000')"
      ]
     },
     "execution_count": 20,
     "metadata": {},
     "output_type": "execute_result"
    },
    {
     "data": {
      "image/png": "[encoded data removed]",
      "text/plain": [
       "<Figure size 640x480 with 1 Axes>"
      ]
     },
     "metadata": {},
     "output_type": "display_data"
    }
   ],
   "source": [
    "ax = sns.distplot(tmdb.query('budget > 0').budget)\n",
    "ax.set(xlabel = 'Budget (gastos) em centenas de milhões de US$', ylabel= 'Densidade')\n",
    "ax.set_title('Número de votos em filmes no TMDB 5000')"
   ]
  },
  {
   "cell_type": "code",
   "execution_count": null,
   "metadata": {},
   "outputs": [],
   "source": [
    "tmdb.query('popularity==0')"
   ]
  },
  {
   "cell_type": "code",
   "execution_count": 21,
   "metadata": {},
   "outputs": [
    {
     "name": "stderr",
     "output_type": "stream",
     "text": [
      "C:\\Users\\Fabiano\\AppData\\Local\\Temp\\ipykernel_18088\\3642764109.py:1: UserWarning: \n",
      "\n",
      "`distplot` is a deprecated function and will be removed in seaborn v0.14.0.\n",
      "\n",
      "Please adapt your code to use either `displot` (a figure-level function with\n",
      "similar flexibility) or `histplot` (an axes-level function for histograms).\n",
      "\n",
      "For a guide to updating your code to use the new functions, please see\n",
      "https://gist.github.com/mwaskom/de44147ed2974457ad6372750bbe5751\n",
      "\n",
      "  ax = sns.distplot(tmdb.popularity)\n"
     ]
    },
    {
     "data": {
      "text/plain": [
       "Text(0.5, 1.0, 'Número de votos em filmes no TMDB 5000')"
      ]
     },
     "execution_count": 21,
     "metadata": {},
     "output_type": "execute_result"
    },
    {
     "data": {
      "image/png": "[encoded data removed]",
      "text/plain": [
       "<Figure size 640x480 with 1 Axes>"
      ]
     },
     "metadata": {},
     "output_type": "display_data"
    }
   ],
   "source": [
    "ax = sns.distplot(tmdb.popularity)\n",
    "ax.set(xlabel = 'Popularidade', ylabel= 'Densidade')\n",
    "ax.set_title('Número de votos em filmes no TMDB 5000')"
   ]
  },
  {
   "cell_type": "code",
   "execution_count": 22,
   "metadata": {},
   "outputs": [
    {
     "data": {
      "text/plain": [
       "0       162.0\n",
       "1       169.0\n",
       "2       148.0\n",
       "3       165.0\n",
       "4       132.0\n",
       "        ...  \n",
       "4798     81.0\n",
       "4799     85.0\n",
       "4800    120.0\n",
       "4801     98.0\n",
       "4802     90.0\n",
       "Name: runtime, Length: 4803, dtype: float64"
      ]
     },
     "execution_count": 22,
     "metadata": {},
     "output_type": "execute_result"
    }
   ],
   "source": [
    "tmdb.runtime"
   ]
  },
  {
   "cell_type": "code",
   "execution_count": 23,
   "metadata": {},
   "outputs": [
    {
     "name": "stderr",
     "output_type": "stream",
     "text": [
      "C:\\Users\\Fabiano\\AppData\\Local\\Temp\\ipykernel_18088\\3500880551.py:1: UserWarning: \n",
      "\n",
      "`distplot` is a deprecated function and will be removed in seaborn v0.14.0.\n",
      "\n",
      "Please adapt your code to use either `displot` (a figure-level function with\n",
      "similar flexibility) or `histplot` (an axes-level function for histograms).\n",
      "\n",
      "For a guide to updating your code to use the new functions, please see\n",
      "https://gist.github.com/mwaskom/de44147ed2974457ad6372750bbe5751\n",
      "\n",
      "  ax = sns.distplot(tmdb.runtime)\n"
     ]
    },
    {
     "data": {
      "text/plain": [
       "Text(0.5, 1.0, 'Número de votos em filmes no TMDB 5000')"
      ]
     },
     "execution_count": 23,
     "metadata": {},
     "output_type": "execute_result"
    },
    {
     "data": {
      "image/png": "[encoded data removed]",
      "text/plain": [
       "<Figure size 640x480 with 1 Axes>"
      ]
     },
     "metadata": {},
     "output_type": "display_data"
    }
   ],
   "source": [
    "ax = sns.distplot(tmdb.runtime)\n",
    "ax.set(xlabel = 'Tempo de duração', ylabel= 'Densidade')\n",
    "ax.set_title('Número de votos em filmes no TMDB 5000')"
   ]
  },
  {
   "cell_type": "code",
   "execution_count": 24,
   "metadata": {},
   "outputs": [
    {
     "data": {
      "text/plain": [
       "2"
      ]
     },
     "execution_count": 24,
     "metadata": {},
     "output_type": "execute_result"
    }
   ],
   "source": [
    "# Verificando a presença de valores nulos\n",
    "tmdb.runtime.isnull().sum()"
   ]
  },
  {
   "cell_type": "code",
   "execution_count": null,
   "metadata": {},
   "outputs": [],
   "source": [
    "# Dropando os valores nulos\n",
    "tmdb.runtime.dropna()"
   ]
  },
  {
   "cell_type": "code",
   "execution_count": null,
   "metadata": {},
   "outputs": [],
   "source": [
    "# Verificando a presença de valores nulos\n",
    "tmdb.runtime.isnull().sum()"
   ]
  },
  {
   "cell_type": "code",
   "execution_count": 25,
   "metadata": {},
   "outputs": [
    {
     "name": "stderr",
     "output_type": "stream",
     "text": [
      "C:\\Users\\Fabiano\\AppData\\Local\\Temp\\ipykernel_18088\\3876470852.py:1: UserWarning: \n",
      "\n",
      "`distplot` is a deprecated function and will be removed in seaborn v0.14.0.\n",
      "\n",
      "Please adapt your code to use either `displot` (a figure-level function with\n",
      "similar flexibility) or `histplot` (an axes-level function for histograms).\n",
      "\n",
      "For a guide to updating your code to use the new functions, please see\n",
      "https://gist.github.com/mwaskom/de44147ed2974457ad6372750bbe5751\n",
      "\n",
      "  ax = sns.distplot(tmdb.runtime.dropna())\n"
     ]
    },
    {
     "data": {
      "text/plain": [
       "Text(0.5, 1.0, 'Número de votos em filmes no TMDB 5000')"
      ]
     },
     "execution_count": 25,
     "metadata": {},
     "output_type": "execute_result"
    },
    {
     "data": {
      "image/png": "[encoded data removed]",
      "text/plain": [
       "<Figure size 640x480 with 1 Axes>"
      ]
     },
     "metadata": {},
     "output_type": "display_data"
    }
   ],
   "source": [
    "ax = sns.distplot(tmdb.runtime.dropna())\n",
    "ax.set(xlabel = 'Tempo de duração', ylabel= 'Densidade')\n",
    "ax.set_title('Número de votos em filmes no TMDB 5000')"
   ]
  },
  {
   "cell_type": "code",
   "execution_count": null,
   "metadata": {},
   "outputs": [],
   "source": [
    "tmdb.query('runtime == 0')"
   ]
  },
  {
   "cell_type": "code",
   "execution_count": null,
   "metadata": {},
   "outputs": [],
   "source": [
    "ax = sns.distplot(tmdb.query('runtime>0').runtime.dropna())\n",
    "ax.set(xlabel = 'Tempo de duração', ylabel= 'Densidade')\n",
    "ax.set_title('Número de votos em filmes no TMDB 5000')"
   ]
  },
  {
   "cell_type": "code",
   "execution_count": null,
   "metadata": {},
   "outputs": [],
   "source": [
    "# Para visualizar os dados cumulativamente\n",
    "ax = sns.distplot(tmdb.query('runtime>0').runtime.dropna(),\n",
    "                hist_kws = {'cumulative': True},\n",
    "                kde_kws = {'cumulative': True})\n",
    "ax.set(xlabel = 'Tempo de duração', ylabel= 'Densidade')\n",
    "ax.set_title('Tempo de duração em filmes no TMDB 5000')"
   ]
  },
  {
   "cell_type": "code",
   "execution_count": 26,
   "metadata": {},
   "outputs": [
    {
     "data": {
      "text/plain": [
       "104.0"
      ]
     },
     "execution_count": 26,
     "metadata": {},
     "output_type": "execute_result"
    }
   ],
   "source": [
    "tmdb.query('runtime>0').runtime.dropna().quantile()"
   ]
  },
  {
   "cell_type": "markdown",
   "metadata": {},
   "source": [
    "Avaliando as notas médias"
   ]
  },
  {
   "cell_type": "code",
   "execution_count": 27,
   "metadata": {},
   "outputs": [
    {
     "data": {
      "text/plain": [
       "3.4320503405352594"
      ]
     },
     "execution_count": 27,
     "metadata": {},
     "output_type": "execute_result"
    }
   ],
   "source": [
    "nota_media_por_filme_com_pelo_menos_10_votos.mean()"
   ]
  },
  {
   "cell_type": "code",
   "execution_count": 28,
   "metadata": {},
   "outputs": [
    {
     "name": "stderr",
     "output_type": "stream",
     "text": [
      "C:\\Users\\Fabiano\\AppData\\Local\\Temp\\ipykernel_18088\\6132050.py:1: FutureWarning: The behavior of `series[i:j]` with an integer-dtype index is deprecated. In a future version, this will be treated as *label-based* indexing, consistent with e.g. `series[i]` lookups. To retain the old behavior, use `series.iloc[i:j]`. To get the future behavior, use `series.loc[i:j]`.\n",
      "  nota_media_por_filme_com_pelo_menos_10_votos[0:1].mean()\n"
     ]
    },
    {
     "data": {
      "text/plain": [
       "3.9209302325581397"
      ]
     },
     "execution_count": 28,
     "metadata": {},
     "output_type": "execute_result"
    }
   ],
   "source": [
    "nota_media_por_filme_com_pelo_menos_10_votos[0:1].mean()"
   ]
  },
  {
   "cell_type": "code",
   "execution_count": 29,
   "metadata": {},
   "outputs": [
    {
     "data": {
      "text/plain": [
       "2269"
      ]
     },
     "execution_count": 29,
     "metadata": {},
     "output_type": "execute_result"
    }
   ],
   "source": [
    "len(nota_media_por_filme_com_pelo_menos_10_votos)"
   ]
  },
  {
   "cell_type": "code",
   "execution_count": 30,
   "metadata": {},
   "outputs": [
    {
     "name": "stderr",
     "output_type": "stream",
     "text": [
      "C:\\Users\\Fabiano\\AppData\\Local\\Temp\\ipykernel_18088\\2046290577.py:3: FutureWarning: The behavior of `series[i:j]` with an integer-dtype index is deprecated. In a future version, this will be treated as *label-based* indexing, consistent with e.g. `series[i]` lookups. To retain the old behavior, use `series.iloc[i:j]`. To get the future behavior, use `series.loc[i:j]`.\n",
      "  medias.append(nota_media_por_filme_com_pelo_menos_10_votos[0:i].mean())\n"
     ]
    },
    {
     "data": {
      "text/plain": [
       "[3.9209302325581397,\n",
       " 3.676374207188161,\n",
       " 3.5374545996639024,\n",
       " 3.4209480926050695,\n",
       " 3.5259741603585653,\n",
       " 3.469175997829668,\n",
       " 3.420007998139716,\n",
       " 3.429533513523767,\n",
       " 3.456410742179856,\n",
       " 3.352874931119765,\n",
       " 3.396552967684635,\n",
       " 3.363506887044249,\n",
       " 3.406839377909513,\n",
       " 3.4332165225577675,\n",
       " 3.451002087720583,\n",
       " 3.4057690026925918,\n",
       " 3.352488473122439,\n",
       " 3.360371448086299,\n",
       " 3.353100436198716,\n",
       " 3.34169541438878,\n",
       " 3.3313765851321713,\n",
       " 3.3447231039898,\n",
       " 3.3514742733815477,\n",
       " 3.387965875627014,\n",
       " 3.412973556391407,\n",
       " 3.404174978311576,\n",
       " 3.425614825316986,\n",
       " 3.4337122869128076,\n",
       " 3.4475781010027933,\n",
       " 3.4424344719950075,\n",
       " 3.4507430374145236,\n",
       " 3.422391013147493,\n",
       " 3.419060982446054,\n",
       " 3.40869644374666,\n",
       " 3.424887101300415,\n",
       " 3.417169649140109,\n",
       " 3.4393473639752203,\n",
       " 3.4400036363518125,\n",
       " 3.4550555181639973,\n",
       " 3.4495614831510735,\n",
       " 3.4558221786839747,\n",
       " 3.433832556918073,\n",
       " 3.441766683501374,\n",
       " 3.4432967795374996,\n",
       " 3.4437021502486322,\n",
       " 3.442752103504097,\n",
       " 3.4283255881604546,\n",
       " 3.421634281264255,\n",
       " 3.4327573911704268,\n",
       " 3.427227243347018,\n",
       " 3.4237521993598214,\n",
       " 3.4338723493721326,\n",
       " 3.426135314927555,\n",
       " 3.434910586873341,\n",
       " 3.423107017761358,\n",
       " 3.429526690580837,\n",
       " 3.429699800209137,\n",
       " 3.427163746682293,\n",
       " 3.4254647522795945,\n",
       " 3.4355677659019386,\n",
       " 3.446554675162058,\n",
       " 3.4481179588025017,\n",
       " 3.435548626123097,\n",
       " 3.437857762173257,\n",
       " 3.4303770720356037,\n",
       " 3.4314319648835494,\n",
       " 3.4323685929675505,\n",
       " 3.430912192090577,\n",
       " 3.4282192333532597,\n",
       " 3.428768482400594,\n",
       " 3.4346417593284535,\n",
       " 3.436180825802427,\n",
       " 3.429055860985416,\n",
       " 3.4350821331342614,\n",
       " 3.427462856207623,\n",
       " 3.4192916556378283,\n",
       " 3.412454843783534,\n",
       " 3.405592512228055,\n",
       " 3.4085080795428526,\n",
       " 3.4184752579603304,\n",
       " 3.420229959227562,\n",
       " 3.419025064254403,\n",
       " 3.42067000993273,\n",
       " 3.4166540971160706,\n",
       " 3.4046934606794106,\n",
       " 3.402645530073504,\n",
       " 3.39433058470506,\n",
       " 3.3860922239551132,\n",
       " 3.378383322562359,\n",
       " 3.3850123967561108,\n",
       " 3.3951517364367287,\n",
       " 3.3952346281904355,\n",
       " 3.383078405116914,\n",
       " 3.379430534545761,\n",
       " 3.3735724938312446,\n",
       " 3.3744554192427247,\n",
       " 3.36514586411062,\n",
       " 3.3682226069938452,\n",
       " 3.3655132877312814,\n",
       " 3.3585248215206356,\n",
       " 3.357450318337263,\n",
       " 3.358179415038056,\n",
       " 3.351951135927654,\n",
       " 3.3526878695107665,\n",
       " 3.348500780070291,\n",
       " 3.3550400808872385,\n",
       " 3.3547736372550667,\n",
       " 3.3554569501376257,\n",
       " 3.3590766111455377,\n",
       " 3.363591998596662,\n",
       " 3.365834413023719,\n",
       " 3.3673757266437,\n",
       " 3.3629178561746085,\n",
       " 3.3632065884303866,\n",
       " 3.360571317017425,\n",
       " 3.365159987929837,\n",
       " 3.366312466665479,\n",
       " 3.3597185923218533,\n",
       " 3.362398027920589,\n",
       " 3.3633595258360662,\n",
       " 3.3631739850515454,\n",
       " 3.3601971491085,\n",
       " 3.3677817531667715,\n",
       " 3.372304250549067,\n",
       " 3.370737581250557,\n",
       " 3.3735271418931894,\n",
       " 3.374156757879015,\n",
       " 3.374817373804415,\n",
       " 3.370582909112686,\n",
       " 3.3715784251964345,\n",
       " 3.3656885135537133,\n",
       " 3.37224447706627,\n",
       " 3.3760693485240605,\n",
       " 3.3800148153616565,\n",
       " 3.3841583644285618,\n",
       " 3.3842532207454803,\n",
       " 3.3810190838830185,\n",
       " 3.3837512971601633,\n",
       " 3.380605090500224,\n",
       " 3.379672196996651,\n",
       " 3.378565899220266,\n",
       " 3.3834839075139476,\n",
       " 3.3862967073615025,\n",
       " 3.3859578413381586,\n",
       " 3.384907757274957,\n",
       " 3.3893653362368696,\n",
       " 3.3896128004410913,\n",
       " 3.393864044981903,\n",
       " 3.3992546782632913,\n",
       " 3.4000497705316595,\n",
       " 3.3970900038393967,\n",
       " 3.402495661708875,\n",
       " 3.405720090935179,\n",
       " 3.4097413890459887,\n",
       " 3.4119366058908533,\n",
       " 3.409802059496816,\n",
       " 3.4095803903280464,\n",
       " 3.4082773733240948,\n",
       " 3.414697151366201,\n",
       " 3.415855294170163,\n",
       " 3.416688491100783,\n",
       " 3.4130270153024114,\n",
       " 3.411413352631845,\n",
       " 3.4113042377896905,\n",
       " 3.407801383823288,\n",
       " 3.4100435441617014,\n",
       " 3.412176419742972,\n",
       " 3.4087831390490133,\n",
       " 3.4091417462445928,\n",
       " 3.408339308165079,\n",
       " 3.4061874564846257,\n",
       " 3.4072981237272857,\n",
       " 3.4083156682914826,\n",
       " 3.409443425683747,\n",
       " 3.409309262750016,\n",
       " 3.407986315735727,\n",
       " 3.4091241049123617,\n",
       " 3.40321409790242,\n",
       " 3.407465045615825,\n",
       " 3.4080870035608934,\n",
       " 3.406157371107031,\n",
       " 3.4068345930498816,\n",
       " 3.4097582316950534,\n",
       " 3.4070783862329423,\n",
       " 3.405876413203554,\n",
       " 3.4063824539927823,\n",
       " 3.4045319854023735,\n",
       " 3.404026622764721,\n",
       " 3.4006291526014407,\n",
       " 3.4018698604107156,\n",
       " 3.395577348052544,\n",
       " 3.3948191326981045,\n",
       " 3.395515612663823,\n",
       " 3.390899552804731,\n",
       " 3.3914446372069422,\n",
       " 3.39362186772212,\n",
       " 3.392416934383429,\n",
       " 3.390916031155422,\n",
       " 3.386439066174742,\n",
       " 3.381590204177202,\n",
       " 3.3801951806548804,\n",
       " 3.380788273819955,\n",
       " 3.377870408128534,\n",
       " 3.373720308088688,\n",
       " 3.375274392889757,\n",
       " 3.3718750026330104,\n",
       " 3.368727485630198,\n",
       " 3.3679563598980016,\n",
       " 3.3654780998027958,\n",
       " 3.361555188216433,\n",
       " 3.36326451065248,\n",
       " 3.3650325801215497,\n",
       " 3.3616542794893096,\n",
       " 3.3601262383017265,\n",
       " 3.355756511242811,\n",
       " 3.356637511799923,\n",
       " 3.359273151969377,\n",
       " 3.358049846651135,\n",
       " 3.3564149158445087,\n",
       " 3.357225091069518,\n",
       " 3.352857067543827,\n",
       " 3.355736563920467,\n",
       " 3.353692902198851,\n",
       " 3.351518677933082,\n",
       " 3.350865463606915,\n",
       " 3.351746589874141,\n",
       " 3.3532492795348587,\n",
       " 3.3574016949754952,\n",
       " 3.3575106523824867,\n",
       " 3.3592171278069105,\n",
       " 3.3583456023048983,\n",
       " 3.356516363778373,\n",
       " 3.3544009989708963,\n",
       " 3.35288646478726,\n",
       " 3.35263638471182,\n",
       " 3.3543201288443973,\n",
       " 3.355638046725504,\n",
       " 3.355732209472404,\n",
       " 3.357649453317173,\n",
       " 3.357779617632055,\n",
       " 3.353667115760829,\n",
       " 3.353795001169319,\n",
       " 3.3548643071877016,\n",
       " 3.3556270912015123,\n",
       " 3.3558762323258597,\n",
       " 3.3568855430345623,\n",
       " 3.3556655835710845,\n",
       " 3.351831294543628,\n",
       " 3.3509421519254157,\n",
       " 3.3514795597883023,\n",
       " 3.354959720904683,\n",
       " 3.357023372805855,\n",
       " 3.3566003555220374,\n",
       " 3.3551964171144704,\n",
       " 3.3533677601410368,\n",
       " 3.3543590691137,\n",
       " 3.3540178535399763,\n",
       " 3.3532916861489945,\n",
       " 3.3541798778369647,\n",
       " 3.354631871049929,\n",
       " 3.3519959890407973,\n",
       " 3.3548540442414545,\n",
       " 3.352690014741351,\n",
       " 3.3525551024534357,\n",
       " 3.3474511209347435,\n",
       " 3.348226731160027,\n",
       " 3.3479048897772827,\n",
       " 3.3496492171116383,\n",
       " 3.351323383590777,\n",
       " 3.3520350683214395,\n",
       " 3.3494675957446076,\n",
       " 3.347212608668749,\n",
       " 3.3459249788024623,\n",
       " 3.3462492767217804,\n",
       " 3.347871460176523,\n",
       " 3.3501291075775397,\n",
       " 3.351880864783608,\n",
       " 3.3521567301209747,\n",
       " 3.3550568505240554,\n",
       " 3.3559919443324806,\n",
       " 3.357467232591815,\n",
       " 3.3577953629726953,\n",
       " 3.358245503687227,\n",
       " 3.3598649977523487,\n",
       " 3.358602313549709,\n",
       " 3.3612506344794215,\n",
       " 3.3619829617858645,\n",
       " 3.3626200158958253,\n",
       " 3.362787805152626,\n",
       " 3.363753561489538,\n",
       " 3.363128353999258,\n",
       " 3.3620404299973927,\n",
       " 3.3597188523585557,\n",
       " 3.3596095576461003,\n",
       " 3.360211006728781,\n",
       " 3.3593059279638453,\n",
       " 3.3596078594920367,\n",
       " 3.359379868912086,\n",
       " 3.3598037192204435,\n",
       " 3.3576295307224133,\n",
       " 3.3562903809676725,\n",
       " 3.354716414080205,\n",
       " 3.354826033289454,\n",
       " 3.353957885452677,\n",
       " 3.352961302221684,\n",
       " 3.354966875308106,\n",
       " 3.3532987654304147,\n",
       " 3.355699070064058,\n",
       " 3.354652335418273,\n",
       " 3.3551211988524074,\n",
       " 3.3560388022894374,\n",
       " 3.355926941421144,\n",
       " 3.353671583780821,\n",
       " 3.3562017639221184,\n",
       " 3.3544937640943706,\n",
       " 3.3518442312311305,\n",
       " 3.3535602851809796,\n",
       " 3.3528058074402733,\n",
       " 3.3556748840223203,\n",
       " 3.35390550527291,\n",
       " 3.3509794262731227,\n",
       " 3.35037978438048,\n",
       " 3.3525124032717932,\n",
       " 3.3527995395408783,\n",
       " 3.352728732447037,\n",
       " 3.351050287119149,\n",
       " 3.3511053248314684,\n",
       " 3.3503683421338115,\n",
       " 3.3484879134862107,\n",
       " 3.346548051122111,\n",
       " 3.346880297913677,\n",
       " 3.349323112488763,\n",
       " 3.3486835945424405,\n",
       " 3.348648483546024,\n",
       " 3.3495693622731784,\n",
       " 3.3462968344092703,\n",
       " 3.346011087126157,\n",
       " 3.3451987128193594,\n",
       " 3.3451769993238383,\n",
       " 3.3438157520939926,\n",
       " 3.343607281480015,\n",
       " 3.345282893717402,\n",
       " 3.343790329401414,\n",
       " 3.3414585745678824,\n",
       " 3.340238273034221,\n",
       " 3.3397590254377376,\n",
       " 3.3424947703212022,\n",
       " 3.344384153165107,\n",
       " 3.342654515880224,\n",
       " 3.34321396451617,\n",
       " 3.3459693231004155,\n",
       " 3.3480389218561144,\n",
       " 3.3490595859112897,\n",
       " 3.3504668249969143,\n",
       " 3.352366918447627,\n",
       " 3.3549218000303727,\n",
       " 3.3576291019110394,\n",
       " 3.359937988571388,\n",
       " 3.3616177238761002,\n",
       " 3.3634187857542215,\n",
       " 3.3646494603302273,\n",
       " 3.3670675557436804,\n",
       " 3.3692807430431593,\n",
       " 3.3711312276580325,\n",
       " 3.3722148863950427,\n",
       " 3.37408777552427,\n",
       " 3.3760657379887817,\n",
       " 3.377436306044814,\n",
       " 3.3781599053358704,\n",
       " 3.380741455141268,\n",
       " 3.382527807717355,\n",
       " 3.383904064720384,\n",
       " 3.386170184296647,\n",
       " 3.388257073286942,\n",
       " 3.3905550544248437,\n",
       " 3.392754087004425,\n",
       " 3.3923754289487107,\n",
       " 3.395022205969633,\n",
       " 3.395629007536995,\n",
       " 3.3973102016187937,\n",
       " 3.399110787266339,\n",
       " 3.4003202121978697,\n",
       " 3.4020046360444933,\n",
       " 3.402910873971461,\n",
       " 3.404385360624247,\n",
       " 3.406187471088951,\n",
       " 3.406529264544694,\n",
       " 3.4063015649406663,\n",
       " 3.4082951809223565,\n",
       " 3.4059662189199913,\n",
       " 3.4050345065101366,\n",
       " 3.4029808470547533,\n",
       " 3.402485560760297,\n",
       " 3.4013371202507527,\n",
       " 3.401586899693156,\n",
       " 3.4017611454901284,\n",
       " 3.4009533871414908,\n",
       " 3.3982709246947365,\n",
       " 3.398496048287219,\n",
       " 3.399038269704962,\n",
       " 3.3994895458403613,\n",
       " 3.3985402115045824,\n",
       " 3.399753074363534,\n",
       " 3.399718324886679,\n",
       " 3.398155234372555,\n",
       " 3.398354769920078,\n",
       " 3.3982973871930016,\n",
       " 3.398730481832234,\n",
       " 3.4000477667177296,\n",
       " 3.401174647690412,\n",
       " 3.399640970526526,\n",
       " 3.4025323980031823,\n",
       " 3.4022207203416968,\n",
       " 3.4020177278244024,\n",
       " 3.4021964573385377,\n",
       " 3.4023514338032688,\n",
       " 3.4031185100344894,\n",
       " 3.403815462030685,\n",
       " 3.404456508166897,\n",
       " 3.4038598168470857,\n",
       " 3.4049764196095205,\n",
       " 3.4057940110322464,\n",
       " 3.4058018051174916,\n",
       " 3.4070205159810536,\n",
       " 3.4082439178072974,\n",
       " 3.4085571167482818,\n",
       " 3.410109508913809,\n",
       " 3.4117214025845715,\n",
       " 3.411621929895674,\n",
       " 3.4134606930269302,\n",
       " 3.41478474474642,\n",
       " 3.4127774167438107,\n",
       " 3.412266358879973,\n",
       " 3.412250550231414,\n",
       " 3.412315436760712,\n",
       " 3.412898811141231,\n",
       " 3.4143567085985733,\n",
       " 3.4151604454342452,\n",
       " 3.4135553563006584,\n",
       " 3.413300014171059,\n",
       " 3.414857156996068,\n",
       " 3.417255670215534,\n",
       " 3.417526057048088,\n",
       " 3.4180583095183543,\n",
       " 3.4186637964632567,\n",
       " 3.418791919008435,\n",
       " 3.4188588676207607,\n",
       " 3.4203589797263154,\n",
       " 3.4196797495162,\n",
       " 3.421328827197014,\n",
       " 3.422390182347353,\n",
       " 3.4237470940804657,\n",
       " 3.4235907896265805,\n",
       " 3.425216723362827,\n",
       " 3.424581881413378,\n",
       " 3.4254782661763605,\n",
       " 3.4279206915603653,\n",
       " 3.428361104088901,\n",
       " 3.428977117176095,\n",
       " 3.430109775617017,\n",
       " 3.430450007170427,\n",
       " 3.430944900897528,\n",
       " 3.432173961586734,\n",
       " 3.4338352408048594,\n",
       " 3.43417303403089,\n",
       " 3.4358500013622106,\n",
       " 3.4375556638136775,\n",
       " 3.439200844019204,\n",
       " 3.4407760364662736,\n",
       " 3.441889886844613,\n",
       " 3.443384458917837,\n",
       " 3.4448796672824553,\n",
       " 3.446687532679322,\n",
       " 3.4478460681237393,\n",
       " 3.4492625809385786,\n",
       " 3.4508809918362378,\n",
       " 3.4526727624100726,\n",
       " 3.45410598906202,\n",
       " 3.4550047560673502,\n",
       " 3.456617593381099,\n",
       " 3.4582670370539037,\n",
       " 3.4593270184753515,\n",
       " 3.460527616131251,\n",
       " 3.460515256293263,\n",
       " 3.4625210667613873,\n",
       " 3.463626990492331,\n",
       " 3.4648025912886777,\n",
       " 3.4655089872276834,\n",
       " 3.467133079119817,\n",
       " 3.46842064266383,\n",
       " 3.46968513364473,\n",
       " 3.4707630093893544,\n",
       " 3.4722101645961017,\n",
       " 3.4734050832912513,\n",
       " 3.4748476992846022,\n",
       " 3.4756457677440533,\n",
       " 3.476426432926935,\n",
       " 3.4779044922985682,\n",
       " 3.4789038069432605,\n",
       " 3.480522922406297,\n",
       " 3.4820033601304803,\n",
       " 3.482829940219634,\n",
       " 3.4839575148911655,\n",
       " 3.4853201620983594,\n",
       " 3.4862774489060855,\n",
       " 3.4875023168056005,\n",
       " 3.488956947344445,\n",
       " 3.4898828240732587,\n",
       " 3.49100936300286,\n",
       " 3.492526415001586,\n",
       " 3.493659295933928,\n",
       " 3.4948869578993347,\n",
       " 3.496010820693739,\n",
       " 3.4974035319507153,\n",
       " 3.498029932859549,\n",
       " 3.498336560896643,\n",
       " 3.498928458895077,\n",
       " 3.4992880278647487,\n",
       " 3.5004118829311737,\n",
       " 3.5013831956668726,\n",
       " 3.5018283974666162,\n",
       " 3.5028672657608544,\n",
       " 3.504062370370765,\n",
       " 3.5046759562962957,\n",
       " 3.5055128705586953,\n",
       " 3.5066641980122166,\n",
       " 3.508074702380315,\n",
       " 3.5087778001879806,\n",
       " 3.5097782423348964,\n",
       " 3.509759792821057,\n",
       " 3.510911303797311,\n",
       " 3.511916084326742,\n",
       " 3.5123507441002184,\n",
       " 3.5127567664271218,\n",
       " 3.514175781489055,\n",
       " 3.5153153789116502,\n",
       " 3.516204463165425,\n",
       " 3.5173515428497515,\n",
       " 3.5178444321356044,\n",
       " 3.5191271763645933,\n",
       " 3.520280096820217,\n",
       " 3.520670183942455,\n",
       " 3.521444596993368,\n",
       " 3.5223521464752765,\n",
       " 3.5229783560480485,\n",
       " 3.522661545872137,\n",
       " 3.5236190724270844,\n",
       " 3.524397139813167,\n",
       " 3.524959865120125,\n",
       " 3.5244186157785844,\n",
       " 3.5247479510547413,\n",
       " 3.5250201467955846,\n",
       " 3.525446637606473,\n",
       " 3.52633546523328,\n",
       " 3.526842414498972,\n",
       " 3.526826253938465,\n",
       " 3.527728561857258,\n",
       " 3.5284737586766832,\n",
       " 3.529064724277283,\n",
       " 3.528385923287882,\n",
       " 3.5281803217815946,\n",
       " 3.526588067353751,\n",
       " 3.5267224983660403,\n",
       " 3.5266139784068438,\n",
       " 3.5247969625158584,\n",
       " 3.5252478512746643,\n",
       " 3.5260221684933786,\n",
       " 3.525707379855577,\n",
       " 3.5247834653039853,\n",
       " 3.5247948101016977,\n",
       " 3.525308622725306,\n",
       " 3.5259271756211024,\n",
       " 3.5267545278451493,\n",
       " 3.527300993009034,\n",
       " 3.526142401910081,\n",
       " 3.5253582451100747,\n",
       " 3.5251486324923897,\n",
       " 3.5243169643469776,\n",
       " 3.5240076744176014,\n",
       " 3.5225295002663066,\n",
       " 3.5229487765692182,\n",
       " 3.5225002473344,\n",
       " 3.522421763524301,\n",
       " 3.5215700139292245,\n",
       " 3.520849381426782,\n",
       " 3.5199605599567705,\n",
       " 3.5193127666388757,\n",
       " 3.516863165621499,\n",
       " 3.515738044231083,\n",
       " 3.5165681399281397,\n",
       " 3.515047122870433,\n",
       " 3.514334244716622,\n",
       " 3.5144687867104536,\n",
       " 3.515271666379872,\n",
       " 3.5152094633600153,\n",
       " 3.5142367694130483,\n",
       " 3.5137104096652876,\n",
       " 3.514244896159715,\n",
       " 3.512551665949098,\n",
       " 3.513364079839183,\n",
       " 3.5132031856408927,\n",
       " 3.5133058381564393,\n",
       " 3.5115735730848696,\n",
       " 3.5101057360433385,\n",
       " 3.510045535174716,\n",
       " 3.510647770265187,\n",
       " 3.5099437926096146,\n",
       " 3.5085568236524725,\n",
       " 3.508156411597793,\n",
       " 3.5085371135712142,\n",
       " 3.506291330466128,\n",
       " 3.5063438961654665,\n",
       " 3.505871339510493,\n",
       " 3.5056396864553236,\n",
       " 3.5049653277633785,\n",
       " 3.5042004226595154,\n",
       " 3.5031131178145785,\n",
       " 3.500561034979807,\n",
       " 3.5007381084152605,\n",
       " 3.4998748489522997,\n",
       " 3.497620622142392,\n",
       " 3.497680717605186,\n",
       " 3.4974374963026964,\n",
       " 3.4978353363008843,\n",
       " 3.498331107455111,\n",
       " 3.4970558181460767,\n",
       " 3.4958702926678273,\n",
       " 3.4951346684837774,\n",
       " 3.4921301032841128,\n",
       " 3.4901017788571314,\n",
       " 3.490040782223801,\n",
       " 3.490056540479777,\n",
       " 3.48986708286469,\n",
       " 3.489863946752725,\n",
       " 3.4901199704970356,\n",
       " 3.4890277292626917,\n",
       " 3.488665149650237,\n",
       " 3.488016771672729,\n",
       " 3.4876931930003146,\n",
       " 3.4868374223862526,\n",
       " 3.4855079028265474,\n",
       " 3.4846610999640704,\n",
       " 3.4830699294532996,\n",
       " 3.4828552674296245,\n",
       " 3.4834589371269775,\n",
       " 3.482383089760623,\n",
       " 3.4816375208429093,\n",
       " 3.480932833310744,\n",
       " 3.481827937835848,\n",
       " 3.4817460047446716,\n",
       " 3.4811832376335197,\n",
       " 3.481520838037914,\n",
       " 3.4821346697425675,\n",
       " 3.4822796061449846,\n",
       " 3.482701970977478,\n",
       " 3.4806084847412313,\n",
       " 3.4805036996896965,\n",
       " 3.4812225213802783,\n",
       " 3.481697324302401,\n",
       " 3.4809201313867915,\n",
       " 3.4807598891305327,\n",
       " 3.481660437752576,\n",
       " 3.4819143435779867,\n",
       " 3.4816874394460924,\n",
       " 3.4817149771311358,\n",
       " 3.4818925822705786,\n",
       " 3.4823874959403383,\n",
       " 3.4819980269677058,\n",
       " 3.481800720499892,\n",
       " 3.480965528711418,\n",
       " 3.480993896030775,\n",
       " 3.480278131304538,\n",
       " 3.4811662978024476,\n",
       " 3.480606951168714,\n",
       " 3.4797754665576646,\n",
       " 3.4809148519621647,\n",
       " 3.480816433738122,\n",
       " 3.4802055933737104,\n",
       " 3.4790452135488708,\n",
       " 3.479367083332867,\n",
       " 3.4800207708784683,\n",
       " 3.4797834703613173,\n",
       " 3.4795769201520317,\n",
       " 3.480078878845767,\n",
       " 3.480244822088328,\n",
       " 3.4802736197237674,\n",
       " 3.4771727847605605,\n",
       " 3.4763753990684236,\n",
       " 3.4752606790891276,\n",
       " 3.475180073550075,\n",
       " 3.4741463390951806,\n",
       " 3.4744697066205723,\n",
       " 3.473816415745845,\n",
       " 3.4737433040849393,\n",
       " 3.473781083503522,\n",
       " 3.473123537452882,\n",
       " 3.473162097657397,\n",
       " 3.471693779268302,\n",
       " 3.4710189669946705,\n",
       " 3.4717746541846783,\n",
       " 3.47164709111334,\n",
       " 3.472352247203872,\n",
       " 3.471739607686749,\n",
       " 3.472134863925831,\n",
       " 3.471564129993823,\n",
       " 3.469415378328882,\n",
       " 3.4691344984915475,\n",
       " 3.4698382510421917,\n",
       " 3.469351878332682,\n",
       " 3.4690869461096785,\n",
       " 3.4682074286046016,\n",
       " 3.468017998695513,\n",
       " 3.468156355873593,\n",
       " 3.468117588134941,\n",
       " 3.466916549550137,\n",
       " 3.467464675877581,\n",
       " 3.46739382788705,\n",
       " 3.466818554904042,\n",
       " 3.465958563657283,\n",
       " 3.4650799175040548,\n",
       " 3.465615262736071,\n",
       " 3.4659069181563673,\n",
       " 3.4671297301644497,\n",
       " 3.4678029563030983,\n",
       " 3.468795641880611,\n",
       " 3.4689804153442334,\n",
       " 3.4699609349679936,\n",
       " 3.470626573044337,\n",
       " 3.4711768724939263,\n",
       " 3.4716658425316056,\n",
       " 3.47224202762097,\n",
       " 3.4729630084575533,\n",
       " 3.473734493491665,\n",
       " 3.474172804189162,\n",
       " 3.4744347006006966,\n",
       " 3.474730723687255,\n",
       " 3.475181959702152,\n",
       " 3.4755396134624235,\n",
       " 3.475388188225853,\n",
       " 3.4752605722700785,\n",
       " 3.47572773556179,\n",
       " 3.476136136271204,\n",
       " 3.474620475253342,\n",
       " 3.473870537338575,\n",
       " 3.4730666842683218,\n",
       " 3.4734006729250964,\n",
       " 3.4723764863928452,\n",
       " 3.4723138599603596,\n",
       " 3.4727538772267046,\n",
       " 3.473021316501513,\n",
       " 3.4726322748867706,\n",
       " 3.4719170492668354,\n",
       " 3.4717923902113523,\n",
       " 3.4716087575099226,\n",
       " 3.471739309405401,\n",
       " 3.4712475907421667,\n",
       " 3.471250809526558,\n",
       " 3.4717599019376615,\n",
       " 3.4718046808895706,\n",
       " 3.4716698302328974,\n",
       " 3.471175176179028,\n",
       " 3.4710403282478635,\n",
       " 3.4719793317495045,\n",
       " 3.472670458278628,\n",
       " 3.472617859552032,\n",
       " 3.472465036700861,\n",
       " 3.4733435393854037,\n",
       " 3.47299847401294,\n",
       " 3.4720724286178877,\n",
       " 3.4702255813079943,\n",
       " 3.4693009734738416,\n",
       " 3.4691464385341093,\n",
       " 3.4685395220547637,\n",
       " 3.4680264588110603,\n",
       " 3.4685047597382965,\n",
       " 3.46884272941746,\n",
       " 3.469710186835014,\n",
       " 3.4693332721838583,\n",
       " 3.4699447213516748,\n",
       " 3.4704065725797433,\n",
       " 3.470316423319078,\n",
       " 3.470258951082517,\n",
       " 3.4692162782891116,\n",
       " 3.469557637762293,\n",
       " 3.4695095620222367,\n",
       " 3.4696414464620395,\n",
       " 3.4684093734678054,\n",
       " 3.4684494630953844,\n",
       " 3.4680994735253114,\n",
       " 3.467831512490989,\n",
       " 3.4677572512983215,\n",
       " 3.467040386082035,\n",
       " 3.466599789200247,\n",
       " 3.4664403436219087,\n",
       " 3.466456351575424,\n",
       " 3.4663356405437593,\n",
       " 3.466133908944025,\n",
       " 3.4658630644466015,\n",
       " 3.4661795687464183,\n",
       " 3.466395455396596,\n",
       " 3.4659796475038824,\n",
       " 3.466289256065955,\n",
       " 3.4666218140700242,\n",
       " 3.4653630126278294,\n",
       " 3.464412251121459,\n",
       " 3.464195205753083,\n",
       " 3.4643870922627418,\n",
       " 3.4635235768845285,\n",
       " 3.46335234873016,\n",
       " 3.4629206006004143,\n",
       " 3.46330260636136,\n",
       " 3.462072289991809,\n",
       " 3.462177513555926,\n",
       " 3.462899654202663,\n",
       " 3.462915961959703,\n",
       " 3.4630154738286976,\n",
       " 3.4626527457905554,\n",
       " 3.4617204074705175,\n",
       " 3.4612505694600815,\n",
       " 3.461422264883089,\n",
       " 3.4611555194233343,\n",
       " 3.4608606221977585,\n",
       " 3.4613855268401155,\n",
       " 3.4599981436985394,\n",
       " 3.4608610247364804,\n",
       " 3.4610069500683216,\n",
       " 3.460887315262335,\n",
       " 3.460901373423283,\n",
       " 3.4614310460729536,\n",
       " 3.4620558279451545,\n",
       " 3.461905941268927,\n",
       " 3.46247872443863,\n",
       " 3.4629572747227506,\n",
       " 3.462912872625872,\n",
       " 3.4628717451479623,\n",
       " 3.462562742408007,\n",
       " 3.462010098749216,\n",
       " 3.462560297823593,\n",
       " 3.4622256826674485,\n",
       " 3.4609313663785586,\n",
       " 3.4613220231179542,\n",
       " 3.4610851855155635,\n",
       " 3.4611589347782417,\n",
       " 3.459901637462154,\n",
       " 3.4604619116584514,\n",
       " 3.4610374512676643,\n",
       " 3.4613195794243734,\n",
       " 3.461063830444444,\n",
       " 3.459460692834969,\n",
       " 3.459676453364407,\n",
       " 3.460275772420027,\n",
       " 3.4604691107153087,\n",
       " 3.4602372733808315,\n",
       " 3.4603871539671744,\n",
       " 3.460823348329006,\n",
       " 3.4614875871331847,\n",
       " 3.462261813986005,\n",
       " 3.4622866913093047,\n",
       " 3.463084643092096,\n",
       " 3.4626803407342965,\n",
       " 3.4635565009234157,\n",
       " 3.4627956375902014,\n",
       " 3.4624662931996815,\n",
       " 3.462711023234726,\n",
       " 3.461084253907929,\n",
       " 3.4606095607740865,\n",
       " 3.460288002090169,\n",
       " 3.4607254583089597,\n",
       " 3.4607620657371805,\n",
       " 3.460825907440731,\n",
       " 3.461069594025847,\n",
       " 3.4622132451030345,\n",
       " 3.4613974223709576,\n",
       " 3.4616017731462767,\n",
       " 3.460747697650436,\n",
       " 3.459841212455249,\n",
       " 3.4594118990240954,\n",
       " 3.45880729712153,\n",
       " 3.458529115571091,\n",
       " 3.458033886204223,\n",
       " 3.4568991523190116,\n",
       " 3.455587475275566,\n",
       " 3.4548176843284426,\n",
       " 3.4547980941877996,\n",
       " 3.455183016731604,\n",
       " 3.454840276477409,\n",
       " 3.4548911893562395,\n",
       " 3.4549922610541977,\n",
       " 3.4553546701115527,\n",
       " 3.456032725009643,\n",
       " 3.455136947245146,\n",
       " 3.4552432959589963,\n",
       " 3.4535203658030134,\n",
       " 3.4528000117132156,\n",
       " 3.4528010214249374,\n",
       " 3.4525941473613666,\n",
       " 3.4523039729410168,\n",
       " 3.4514986975442747,\n",
       " 3.45067044154225,\n",
       " 3.4489932260189677,\n",
       " 3.4489265175426858,\n",
       " 3.448831960831038,\n",
       " 3.4482310948721997,\n",
       " 3.4483611373266374,\n",
       " 3.447618044433421,\n",
       " 3.445744293832501,\n",
       " 3.4458776150814914,\n",
       " 3.4455187190296392,\n",
       " 3.4453586324300467,\n",
       " 3.4442958876356897,\n",
       " 3.4442147399767817,\n",
       " 3.4437775029213844,\n",
       " 3.443583515148926,\n",
       " 3.442175053972614,\n",
       " 3.442112147230147,\n",
       " 3.4420484013600627,\n",
       " 3.441859941564938,\n",
       " 3.44172875270858,\n",
       " 3.442064194762216,\n",
       " 3.4410402119418224,\n",
       " 3.440751827994536,\n",
       " 3.4397088939800806,\n",
       " 3.4397742147883363,\n",
       " 3.4401099569801237,\n",
       " 3.4397796925775674,\n",
       " 3.439137195702437,\n",
       " 3.439118948697604,\n",
       " 3.438762889110833,\n",
       " 3.4390979129115746,\n",
       " 3.4397982651900727,\n",
       " 3.439266198787553,\n",
       " 3.4386339389176097,\n",
       " 3.4381102155104095,\n",
       " 3.437694679947765,\n",
       " 3.437672190093988,\n",
       " 3.437449427782634,\n",
       " 3.4378401663106906,\n",
       " 3.43713647506492,\n",
       " 3.4364490737780207,\n",
       " 3.4359847662527248,\n",
       " 3.4356231933670696,\n",
       " 3.43539960186668,\n",
       " 3.436053726155231,\n",
       " 3.4368276805413656,\n",
       " 3.436337581631297,\n",
       " 3.4371368506181192,\n",
       " 3.43723256437436,\n",
       " 3.437785629666727,\n",
       " 3.437280411230127,\n",
       " 3.4377411686919905,\n",
       " 3.438069516569286,\n",
       " 3.438440942147119,\n",
       " 3.4378129873284964,\n",
       " 3.4380466364882305,\n",
       " 3.438492280181579,\n",
       " 3.438021443165723,\n",
       " 3.437110936607208,\n",
       " 3.4365342189120183,\n",
       " 3.436204871087472,\n",
       " 3.435892536467968,\n",
       " 3.4355504452303767,\n",
       " 3.435728207113764,\n",
       " 3.435296929809664,\n",
       " 3.4340673686791563,\n",
       " 3.432257454307468,\n",
       " 3.4327510707202875,\n",
       " 3.4326564675874534,\n",
       " 3.432381684735262,\n",
       " 3.4327293102094583,\n",
       " 3.4327526378719817,\n",
       " 3.4322640495047945,\n",
       " 3.4320233942146023,\n",
       " 3.432634177765742,\n",
       " 3.4326605629357294,\n",
       " 3.43214843244383,\n",
       " 3.4324228705253415,\n",
       " 3.4330038092453776,\n",
       " 3.432763433843967,\n",
       " 3.432128660933725,\n",
       " 3.432567144040184,\n",
       " 3.4313183978890844,\n",
       " 3.4312865054268755,\n",
       " 3.431232949243022,\n",
       " 3.4310718662384327,\n",
       " 3.4304280115518964,\n",
       " 3.430460299725721,\n",
       " 3.4296864459941516,\n",
       " 3.4300359536399068,\n",
       " 3.4296011346776822,\n",
       " 3.429369214339624,\n",
       " 3.428043296479932,\n",
       " 3.4266997428496477,\n",
       " 3.4260443171961894,\n",
       " 3.4257059864844663,\n",
       " 3.4251106370843147,\n",
       " 3.425263059212667,\n",
       " 3.4258395255524734,\n",
       " 3.425663333643102,\n",
       " 3.4249557126885044,\n",
       " 3.425447423642483,\n",
       " ...]"
      ]
     },
     "execution_count": 30,
     "metadata": {},
     "output_type": "execute_result"
    }
   ],
   "source": [
    "medias = list()\n",
    "for i in range(1, len(nota_media_por_filme_com_pelo_menos_10_votos)):\n",
    "    medias.append(nota_media_por_filme_com_pelo_menos_10_votos[0:i].mean())\n",
    "medias"
   ]
  },
  {
   "cell_type": "code",
   "execution_count": 31,
   "metadata": {},
   "outputs": [
    {
     "name": "stderr",
     "output_type": "stream",
     "text": [
      "C:\\Users\\Fabiano\\AppData\\Local\\Temp\\ipykernel_18088\\2991088502.py:4: FutureWarning: The behavior of `series[i:j]` with an integer-dtype index is deprecated. In a future version, this will be treated as *label-based* indexing, consistent with e.g. `series[i]` lookups. To retain the old behavior, use `series.iloc[i:j]`. To get the future behavior, use `series.loc[i:j]`.\n",
      "  medias.append(nota_media_por_filme_com_pelo_menos_10_votos[0:i].mean())\n"
     ]
    },
    {
     "data": {
      "text/plain": [
       "[<matplotlib.lines.Line2D at 0x2ad1e076850>]"
      ]
     },
     "execution_count": 31,
     "metadata": {},
     "output_type": "execute_result"
    },
    {
     "data": {
      "image/png": "[encoded data removed]",
      "text/plain": [
       "<Figure size 640x480 with 1 Axes>"
      ]
     },
     "metadata": {},
     "output_type": "display_data"
    }
   ],
   "source": [
    "import matplotlib.pyplot as plt\n",
    "medias = list()\n",
    "for i in range(1, len(nota_media_por_filme_com_pelo_menos_10_votos)):\n",
    "    medias.append(nota_media_por_filme_com_pelo_menos_10_votos[0:i].mean())\n",
    "\n",
    "plt.plot(medias)"
   ]
  },
  {
   "cell_type": "code",
   "execution_count": 32,
   "metadata": {},
   "outputs": [
    {
     "name": "stderr",
     "output_type": "stream",
     "text": [
      "C:\\Users\\Fabiano\\AppData\\Local\\Temp\\ipykernel_18088\\847222048.py:10: FutureWarning: The behavior of `series[i:j]` with an integer-dtype index is deprecated. In a future version, this will be treated as *label-based* indexing, consistent with e.g. `series[i]` lookups. To retain the old behavior, use `series.iloc[i:j]`. To get the future behavior, use `series.loc[i:j]`.\n",
      "  medias.append(temp[0:i].mean())\n"
     ]
    },
    {
     "data": {
      "text/plain": [
       "[<matplotlib.lines.Line2D at 0x2ad2331e580>]"
      ]
     },
     "execution_count": 32,
     "metadata": {},
     "output_type": "execute_result"
    },
    {
     "data": {
      "image/png": "[encoded data removed]",
      "text/plain": [
       "<Figure size 640x480 with 1 Axes>"
      ]
     },
     "metadata": {},
     "output_type": "display_data"
    }
   ],
   "source": [
    "import numpy as np\n",
    "\n",
    "np.random.seed(75243)\n",
    "\n",
    "temp = nota_media_por_filme_com_pelo_menos_10_votos.sample(frac=1)\n",
    "\n",
    "\n",
    "medias = list()\n",
    "for i in range(1, len(temp)):\n",
    "    medias.append(temp[0:i].mean())\n",
    "\n",
    "plt.plot(medias)"
   ]
  },
  {
   "cell_type": "code",
   "execution_count": 33,
   "metadata": {},
   "outputs": [
    {
     "name": "stderr",
     "output_type": "stream",
     "text": [
      "C:\\Users\\Fabiano\\AppData\\Local\\Temp\\ipykernel_18088\\3456490900.py:9: FutureWarning: The behavior of `series[i:j]` with an integer-dtype index is deprecated. In a future version, this will be treated as *label-based* indexing, consistent with e.g. `series[i]` lookups. To retain the old behavior, use `series.iloc[i:j]`. To get the future behavior, use `series.loc[i:j]`.\n",
      "  medias = [temp[0:i].mean() for i in range(1, len(temp))]\n"
     ]
    },
    {
     "data": {
      "text/plain": [
       "[<matplotlib.lines.Line2D at 0x2ad2338a7f0>]"
      ]
     },
     "execution_count": 33,
     "metadata": {},
     "output_type": "execute_result"
    },
    {
     "data": {
      "image/png": "[encoded data removed]",
      "text/plain": [
       "<Figure size 640x480 with 1 Axes>"
      ]
     },
     "metadata": {},
     "output_type": "display_data"
    }
   ],
   "source": [
    "# Outra froma de calcular no python\n",
    "\n",
    "np.random.seed(75243)\n",
    "\n",
    "temp = nota_media_por_filme_com_pelo_menos_10_votos.sample(frac=1)\n",
    "\n",
    "medias = list()\n",
    "\n",
    "medias = [temp[0:i].mean() for i in range(1, len(temp))]\n",
    "\n",
    "plt.plot(medias)"
   ]
  },
  {
   "cell_type": "code",
   "execution_count": null,
   "metadata": {},
   "outputs": [],
   "source": [
    "# Calculando o intervalo de confiança"
   ]
  },
  {
   "cell_type": "code",
   "execution_count": 34,
   "metadata": {},
   "outputs": [],
   "source": [
    "from statsmodels.stats.weightstats import zconfint"
   ]
  },
  {
   "cell_type": "code",
   "execution_count": null,
   "metadata": {},
   "outputs": [],
   "source": [
    "# Aplicando academicamento o teste 'zconfint' que exige normalidade e que a amostra seja robusta o \n",
    "# suficente para representar a população.\n",
    "# Supomos que com um nível de significancia de 5% o intervalo de confiança fica entre: \n",
    "zconfint(nota_media_por_filme_com_pelo_menos_10_votos)"
   ]
  },
  {
   "cell_type": "code",
   "execution_count": 36,
   "metadata": {},
   "outputs": [],
   "source": [
    "from statsmodels.stats.weightstats import DescrStatsW"
   ]
  },
  {
   "cell_type": "code",
   "execution_count": 37,
   "metadata": {},
   "outputs": [
    {
     "data": {
      "text/plain": [
       "(3.411234839229381, 3.4528658418411395)"
      ]
     },
     "execution_count": 37,
     "metadata": {},
     "output_type": "execute_result"
    }
   ],
   "source": [
    "descritivo = DescrStatsW(nota_media_por_filme_com_pelo_menos_10_votos)\n",
    "descritivo.tconfint_mean()"
   ]
  },
  {
   "cell_type": "code",
   "execution_count": 41,
   "metadata": {},
   "outputs": [
    {
     "data": {
      "text/html": [
       "<div>\n",
       "<style scoped>\n",
       "    .dataframe tbody tr th:only-of-type {\n",
       "        vertical-align: middle;\n",
       "    }\n",
       "\n",
       "    .dataframe tbody tr th {\n",
       "        vertical-align: top;\n",
       "    }\n",
       "\n",
       "    .dataframe thead th {\n",
       "        text-align: right;\n",
       "    }\n",
       "</style>\n",
       "<table border=\"1\" class=\"dataframe\">\n",
       "  <thead>\n",
       "    <tr style=\"text-align: right;\">\n",
       "      <th></th>\n",
       "      <th>movieId</th>\n",
       "      <th>title</th>\n",
       "      <th>genres</th>\n",
       "    </tr>\n",
       "  </thead>\n",
       "  <tbody>\n",
       "    <tr>\n",
       "      <th>0</th>\n",
       "      <td>1</td>\n",
       "      <td>Toy Story (1995)</td>\n",
       "      <td>Adventure|Animation|Children|Comedy|Fantasy</td>\n",
       "    </tr>\n",
       "  </tbody>\n",
       "</table>\n",
       "</div>"
      ],
      "text/plain": [
       "   movieId             title                                       genres\n",
       "0        1  Toy Story (1995)  Adventure|Animation|Children|Comedy|Fantasy"
      ]
     },
     "execution_count": 41,
     "metadata": {},
     "output_type": "execute_result"
    }
   ],
   "source": [
    "# Vamos ver o filme 1...\n",
    "\n",
    "filmes = pd.read_csv('movies.csv')\n",
    "filmes.query('movieId==1')"
   ]
  },
  {
   "cell_type": "code",
   "execution_count": 40,
   "metadata": {},
   "outputs": [
    {
     "data": {
      "text/html": [
       "<div>\n",
       "<style scoped>\n",
       "    .dataframe tbody tr th:only-of-type {\n",
       "        vertical-align: middle;\n",
       "    }\n",
       "\n",
       "    .dataframe tbody tr th {\n",
       "        vertical-align: top;\n",
       "    }\n",
       "\n",
       "    .dataframe thead th {\n",
       "        text-align: right;\n",
       "    }\n",
       "</style>\n",
       "<table border=\"1\" class=\"dataframe\">\n",
       "  <thead>\n",
       "    <tr style=\"text-align: right;\">\n",
       "      <th></th>\n",
       "      <th>userId</th>\n",
       "      <th>movieId</th>\n",
       "      <th>rating</th>\n",
       "      <th>timestamp</th>\n",
       "    </tr>\n",
       "  </thead>\n",
       "  <tbody>\n",
       "    <tr>\n",
       "      <th>0</th>\n",
       "      <td>1</td>\n",
       "      <td>1</td>\n",
       "      <td>4.0</td>\n",
       "      <td>964982703</td>\n",
       "    </tr>\n",
       "    <tr>\n",
       "      <th>516</th>\n",
       "      <td>5</td>\n",
       "      <td>1</td>\n",
       "      <td>4.0</td>\n",
       "      <td>847434962</td>\n",
       "    </tr>\n",
       "    <tr>\n",
       "      <th>874</th>\n",
       "      <td>7</td>\n",
       "      <td>1</td>\n",
       "      <td>4.5</td>\n",
       "      <td>1106635946</td>\n",
       "    </tr>\n",
       "    <tr>\n",
       "      <th>1434</th>\n",
       "      <td>15</td>\n",
       "      <td>1</td>\n",
       "      <td>2.5</td>\n",
       "      <td>1510577970</td>\n",
       "    </tr>\n",
       "    <tr>\n",
       "      <th>1667</th>\n",
       "      <td>17</td>\n",
       "      <td>1</td>\n",
       "      <td>4.5</td>\n",
       "      <td>1305696483</td>\n",
       "    </tr>\n",
       "  </tbody>\n",
       "</table>\n",
       "</div>"
      ],
      "text/plain": [
       "      userId  movieId  rating   timestamp\n",
       "0          1        1     4.0   964982703\n",
       "516        5        1     4.0   847434962\n",
       "874        7        1     4.5  1106635946\n",
       "1434      15        1     2.5  1510577970\n",
       "1667      17        1     4.5  1305696483"
      ]
     },
     "execution_count": 40,
     "metadata": {},
     "output_type": "execute_result"
    }
   ],
   "source": [
    "notas1 = notas.query('movieId==1')\n",
    "notas1.head()"
   ]
  },
  {
   "cell_type": "code",
   "execution_count": null,
   "metadata": {},
   "outputs": [],
   "source": [
    "ax = sns.distplot(notas1.rating)\n",
    "ax.set(xlabel='Nota', ylabel='Densidade')\n",
    "ax.set_title('Distribuição das notas para o ToyStory')"
   ]
  },
  {
   "cell_type": "code",
   "execution_count": null,
   "metadata": {},
   "outputs": [],
   "source": [
    "ax = sns.boxplot(notas1.rating)\n",
    "ax.set(xlabel='Nota')\n",
    "ax.set_title('Distribuição das notas para o ToyStory')"
   ]
  },
  {
   "cell_type": "code",
   "execution_count": null,
   "metadata": {},
   "outputs": [],
   "source": [
    "notas1.rating.mean()"
   ]
  },
  {
   "cell_type": "code",
   "execution_count": null,
   "metadata": {},
   "outputs": [],
   "source": [
    "notas1.rating.count()"
   ]
  },
  {
   "cell_type": "code",
   "execution_count": null,
   "metadata": {},
   "outputs": [],
   "source": [
    "zconfint(notas1.rating)"
   ]
  },
  {
   "cell_type": "code",
   "execution_count": 45,
   "metadata": {},
   "outputs": [
    {
     "data": {
      "text/plain": [
       "3.4320503405352594"
      ]
     },
     "execution_count": 45,
     "metadata": {},
     "output_type": "execute_result"
    }
   ],
   "source": [
    "x = nota_media_por_filme_com_pelo_menos_10_votos.mean()\n",
    "x"
   ]
  },
  {
   "cell_type": "code",
   "execution_count": 42,
   "metadata": {},
   "outputs": [
    {
     "name": "stdout",
     "output_type": "stream",
     "text": [
      "A estatística do teste Z é: 8.586342305916732\n",
      "O p-valor é:  8.978190401885648e-18\n",
      "Como o p-valor é menor do que 0,05 descarta-se HO que pressupõe igualdade entre as médias\n"
     ]
    }
   ],
   "source": [
    "from statsmodels.stats.weightstats import ztest\n",
    "z, p_valor = ztest(notas1.rating, value = x)\n",
    "print('A estatística do teste Z é:', z)\n",
    "print('O p-valor é: ', p_valor)\n",
    "print('Como o p-valor é menor do que 0,05 descarta-se HO que pressupõe igualdade entre as médias')"
   ]
  },
  {
   "cell_type": "code",
   "execution_count": 58,
   "metadata": {},
   "outputs": [
    {
     "name": "stderr",
     "output_type": "stream",
     "text": [
      "C:\\Users\\Fabiano\\AppData\\Local\\Temp\\ipykernel_18088\\3994650565.py:7: FutureWarning: The behavior of `series[i:j]` with an integer-dtype index is deprecated. In a future version, this will be treated as *label-based* indexing, consistent with e.g. `series[i]` lookups. To retain the old behavior, use `series.iloc[i:j]`. To get the future behavior, use `series.loc[i:j]`.\n",
      "  media = temp[0:i].mean()\n",
      "C:\\Users\\Fabiano\\AppData\\Local\\Temp\\ipykernel_18088\\3994650565.py:8: FutureWarning: The behavior of `series[i:j]` with an integer-dtype index is deprecated. In a future version, this will be treated as *label-based* indexing, consistent with e.g. `series[i]` lookups. To retain the old behavior, use `series.iloc[i:j]`. To get the future behavior, use `series.loc[i:j]`.\n",
      "  stat, p = ztest(temp[0:i], value=x)\n"
     ]
    },
    {
     "data": {
      "text/plain": [
       "<matplotlib.collections.LineCollection at 0x2ad274300d0>"
      ]
     },
     "execution_count": 58,
     "metadata": {},
     "output_type": "execute_result"
    },
    {
     "data": {
      "image/png": "[encoded data removed]",
      "text/plain": [
       "<Figure size 640x480 with 1 Axes>"
      ]
     },
     "metadata": {},
     "output_type": "display_data"
    }
   ],
   "source": [
    "np.random.seed(75241)\n",
    "temp = notas1.sample(frac=1).rating\n",
    "\n",
    "medias = list()\n",
    "\n",
    "def calcula_teste(i):\n",
    "    media = temp[0:i].mean()\n",
    "    stat, p = ztest(temp[0:i], value=x)\n",
    "    return (i, media, p)\n",
    "\n",
    "valores = np.array([calcula_teste(i) for i in range(2, len(temp))])\n",
    "# medias\n",
    "plt.plot(valores[:,0], valores[:,1])\n",
    "plt.plot(valores[:,0], valores[:,2])\n",
    "plt.hlines(y = 0.05, xmin = 2, xmax = len(temp), colors='r')"
   ]
  },
  {
   "cell_type": "code",
   "execution_count": null,
   "metadata": {},
   "outputs": [],
   "source": [
    "# Comparação de 2 conjuntos de amostras"
   ]
  },
  {
   "cell_type": "code",
   "execution_count": 59,
   "metadata": {},
   "outputs": [
    {
     "data": {
      "text/plain": [
       "(0.2799245129192442, 0.5588219849631111)"
      ]
     },
     "execution_count": 59,
     "metadata": {},
     "output_type": "execute_result"
    }
   ],
   "source": [
    "zconfint(notas1.rating, notas.rating)"
   ]
  },
  {
   "cell_type": "code",
   "execution_count": 60,
   "metadata": {},
   "outputs": [
    {
     "name": "stdout",
     "output_type": "stream",
     "text": [
      "(5.894327101501841, 3.762112778881965e-09)\n"
     ]
    }
   ],
   "source": [
    "print(ztest(notas1.rating, notas.rating))"
   ]
  },
  {
   "cell_type": "code",
   "execution_count": 63,
   "metadata": {},
   "outputs": [
    {
     "data": {
      "text/plain": [
       "<statsmodels.stats.weightstats.CompareMeans at 0x2ad2331efd0>"
      ]
     },
     "execution_count": 63,
     "metadata": {},
     "output_type": "execute_result"
    }
   ],
   "source": [
    "descr_todas_as_notas = DescrStatsW(notas.rating)\n",
    "descr_toystory = DescrStatsW(notas1.rating)\n",
    "comparacao = descr_todas_as_notas.get_compare(descr_toystory)\n",
    "comparacao"
   ]
  }
 ],
 "metadata": {
  "kernelspec": {
   "display_name": "Python 3.9.6 64-bit",
   "language": "python",
   "name": "python3"
  },
  "language_info": {
   "codemirror_mode": {
    "name": "ipython",
    "version": 3
   },
   "file_extension": ".py",
   "mimetype": "text/x-python",
   "name": "python",
   "nbconvert_exporter": "python",
   "pygments_lexer": "ipython3",
   "version": "3.9.6"
  },
  "orig_nbformat": 4,
  "vscode": {
   "interpreter": {
    "hash": "81794d4967e6c3204c66dcd87b604927b115b27c00565d3d43f05ba2f3a2cb0d"
   }
  }
 },
 "nbformat": 4,
 "nbformat_minor": 2
}
